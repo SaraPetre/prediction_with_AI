{
 "cells": [
  {
   "cell_type": "markdown",
   "metadata": {},
   "source": [
    "## Besrivning av det projekt jag har valt"
   ]
  },
  {
   "cell_type": "code",
   "execution_count": 9,
   "metadata": {},
   "outputs": [
    {
     "name": "stdout",
     "output_type": "stream",
     "text": [
      "    ______                ____         __                __     ___    ____\n",
      "   /  _/ /______   ____ _/ / /  ____ _/ /_  ____  __  __/ /_   /   |  /  _/\n",
      "   / // __/ ___/  / __ `/ / /  / __ `/ __ \\/ __ \\/ / / / __/  / /| |  / /  \n",
      " _/ // /_(__  )  / /_/ / / /  / /_/ / /_/ / /_/ / /_/ / /_   / ___ |_/ /   \n",
      "/___/\\__/____/   \\__,_/_/_/   \\__,_/_.___/\\____/\\__,_/\\__/  /_/  |_/___/   \n",
      "                                                                           \n",
      "                   __                         __                              \n",
      "  ____ _____  ____/ /  ____________  ______  / /_____     ____  ____ _      __\n",
      " / __ `/ __ \\/ __  /  / ___/ ___/ / / / __ \\/ __/ __ \\   / __ \\/ __ \\ | /| / /\n",
      "/ /_/ / / / / /_/ /  / /__/ /  / /_/ / /_/ / /_/ /_/ /  / / / / /_/ / |/ |/ / \n",
      "\\__,_/_/ /_/\\__,_/   \\___/_/   \\__, / .___/\\__/\\____/  /_/ /_/\\____/|__/|__/  \n",
      "                              /____/_/                                        \n",
      "\n"
     ]
    }
   ],
   "source": [
    "\n",
    "from pyfiglet import Figlet\n",
    "\n",
    "f_f = Figlet(font='slant')\n",
    "print(f_f.renderText('Its all about AI and crypto now'))"
   ]
  },
  {
   "cell_type": "markdown",
   "metadata": {},
   "source": [
    "Att kunna förutsäga morgondagens, eller kanske till och med nästa timmes, börspriser är många människors dröm. Jag förstår att det inte är realistiskt möjligt men skam den som ger sig =). Krypo har intresserat mig i många år och jag har följt Ethereum under flera år tillbaka. När vi skulle välja ett projekt så kändes det naturligt att välja just krypto och Ethereum. I första han handlar det då om huruvida det är möjligt att bygga en fungerande modell på historiska data och att testa det med olika maskininlärningstekniker. I och med att jag använder historiska data har jag möjlighet att träna modellerna på en bestämd del av min data  och sedan testa modellen på en annan del av datan. Jag har i och med det färdiga svar.  Projektet är ett regressionsproblem med en tidsberoende förutsägelse, en Time Series Prediction.\n",
    "\n",
    "Steg 1. Hitta historiska data genom API:er. Det har varit en utmaning på så sätt att dom flesta kryptowebsiderna inte gärna lämnar ut data , utan att man betalar en ganska hög summa pengar. Jag bestämnde mig snabbt för att inte lägga ut några pengar vilket gjorde att jag fick jobba ganska hårt på att hitta ett lämpligt API. Jag landade i en kryptosida som heter CoinGecko. Där har jag lyckats få ner data från 2018 och framåt. Har alltid tyckt det varit instressant med API:er. Att lära sig att få ut den info man är instresserad av, då alla API:er är olika byggda. Postman API(\"https://www.postman.com/\") har jag tyckt varit ett bra hjälpmedel här. \n",
    "\n",
    "Steg 2. I kod få ner den informationen jag önskar från API.et och spara datan i en csv-fil. "
   ]
  },
  {
   "cell_type": "markdown",
   "metadata": {},
   "source": [
    "Importerar dom 5 csv-filerna som jag redan har laddat nerfrån körning av kod i filen ethereum.py. Observera att filen ethereum.py inte gå att köra igen då API:et med min API-key inte längre är \"valid\" för att hämta datan igen. Jag måste uppgradera till en högre \"pay-plan\" för att ladda ner nu.\n",
    "\n",
    "Sedan fortsätter jag att undersöka datan i den nerladdade csv-filen."
   ]
  },
  {
   "cell_type": "code",
   "execution_count": 2,
   "metadata": {},
   "outputs": [],
   "source": [
    "# Lägger på bibliotek som behövs här efterhand\n",
    "import pandas as pd\n",
    "import matplotlib.pyplot as plt\n",
    "import matplotlib.dates as mdates"
   ]
  },
  {
   "cell_type": "code",
   "execution_count": 3,
   "metadata": {},
   "outputs": [
    {
     "name": "stdout",
     "output_type": "stream",
     "text": [
      "Sammanslagen data har sparats till csv-fil 'sammanslagen_data.csv'\n"
     ]
    }
   ],
   "source": [
    "\n",
    "# Anger sökvägarna till CSV-filerna\n",
    "file_paths = ['./src/LSTM/csv/prices_2018.csv', './src/LSTM/csv/prices_2019.csv', \"./src/LSTM/csv/prices_2020.csv\", './src/LSTM/csv/prices_2021.csv', './src/LSTM/csv/prices_2022.csv']\n",
    "\n",
    "# Skapar en tom DataFrame för att hålla den sammanslagna datan\n",
    "combined_data = pd.DataFrame()\n",
    "\n",
    "# Loopar igenom varje sökväg och lägg till dess innehåll till den sammanslagna DataFramen\n",
    "for file_path in file_paths:\n",
    "    df = pd.read_csv(file_path)\n",
    "    combined_data = pd.concat([combined_data, df], ignore_index=True)\n",
    "\n",
    " # Skriv den sammanslagna datan till en ny CSV-fil\n",
    "combined_data.to_csv('sammanslagen_data.csv', index=False)\n",
    "\n",
    "print(\"Sammanslagen data har sparats till csv-fil 'sammanslagen_data.csv'\")"
   ]
  },
  {
   "cell_type": "code",
   "execution_count": 4,
   "metadata": {},
   "outputs": [
    {
     "name": "stdout",
     "output_type": "stream",
     "text": [
      "         Date  Price\n",
      "0  2018-01-01   6345\n",
      "1  2018-01-02   7155\n",
      "2  2018-01-03   7879\n",
      "3  2018-01-04   7959\n",
      "4  2018-01-05   8199\n"
     ]
    }
   ],
   "source": [
    "import pandas as pd\n",
    "# Läs in data från CSV-filen\n",
    "data = pd.read_csv(\"sammanslagen_data.csv\")\n",
    "# Välj endast kolumnerna 'Date' och 'Price'. \n",
    "# I detta fall har jag redan tidigare vid nerladdningen valt att bara ladda ner daum och pris.\n",
    "# data = data.loc[:,['Date','Price']]\n",
    "# Skriver ut de första fem raderna av den nya dataramen\n",
    "print(data.head(5))\n"
   ]
  },
  {
   "cell_type": "code",
   "execution_count": 5,
   "metadata": {},
   "outputs": [
    {
     "data": {
      "text/plain": [
       "<bound method NDFrame.head of             Date  Price\n",
       "0     2018-01-01   6345\n",
       "1     2018-01-02   7155\n",
       "2     2018-01-03   7879\n",
       "3     2018-01-04   7959\n",
       "4     2018-01-05   8199\n",
       "...          ...    ...\n",
       "1820  2022-12-27  12867\n",
       "1821  2022-12-28  12698\n",
       "1822  2022-12-29  12438\n",
       "1823  2022-12-30  12567\n",
       "1824  2022-12-31  12503\n",
       "\n",
       "[1825 rows x 2 columns]>"
      ]
     },
     "execution_count": 5,
     "metadata": {},
     "output_type": "execute_result"
    }
   ],
   "source": [
    "data.head"
   ]
  },
  {
   "cell_type": "markdown",
   "metadata": {},
   "source": [
    "Ovan kan ses att datasettet har 1825 rader och 2 kolumner."
   ]
  },
  {
   "cell_type": "markdown",
   "metadata": {},
   "source": [
    "För att undersöka om det finns NaN-värden i min DataFrame körs nedan kod. "
   ]
  },
  {
   "cell_type": "code",
   "execution_count": 6,
   "metadata": {},
   "outputs": [
    {
     "name": "stdout",
     "output_type": "stream",
     "text": [
      "Det finns inga NaN-värden i DataFrame.\n"
     ]
    }
   ],
   "source": [
    "import pandas as pd\n",
    "\n",
    "# Läs in CSV-filen till en DataFrame\n",
    "df = pd.read_csv('sammanslagen_data.csv')\n",
    "\n",
    "# Undersök om det finns NaN-värden i DataFrame\n",
    "nan_values = df.isna().sum().sum()\n",
    "\n",
    "if nan_values > 0:\n",
    "    print(\"Det finns NaN-värden i DataFrame.\")\n",
    "    # För att se exakt var NaN-värdena finns, kan du använda:\n",
    "    print(df[df.isna().any(axis=1)])\n",
    "else:\n",
    "    print(\"Det finns inga NaN-värden i DataFrame.\")\n"
   ]
  },
  {
   "cell_type": "markdown",
   "metadata": {},
   "source": [
    "Undersöka vilka datatyper som finns, se nedan."
   ]
  },
  {
   "cell_type": "code",
   "execution_count": 7,
   "metadata": {},
   "outputs": [
    {
     "name": "stdout",
     "output_type": "stream",
     "text": [
      "Date     object\n",
      "Price     int64\n",
      "dtype: object\n"
     ]
    }
   ],
   "source": [
    "print(df.dtypes)"
   ]
  },
  {
   "cell_type": "markdown",
   "metadata": {},
   "source": [
    "För att få en överblick över min data väljer jag att plotta en kurva med priset över datum."
   ]
  },
  {
   "cell_type": "code",
   "execution_count": 8,
   "metadata": {},
   "outputs": [
    {
     "data": {
      "image/png": "[encoded data removed]",
      "text/plain": [
       "<Figure size 640x480 with 1 Axes>"
      ]
     },
     "metadata": {},
     "output_type": "display_data"
    }
   ],
   "source": [
    "# Konvertera datumkolumnen till pandas datetime-objekt\n",
    "df['Date'] = pd.to_datetime(df['Date'])\n",
    "# Plotta datan\n",
    "plt.plot(df['Date'], df['Price'], label='Pris, SEK')\n",
    "plt.xlabel('Datum')\n",
    "plt.ylabel('Pris')\n",
    "plt.title('Ethereum pris över tid')\n",
    "\n",
    "# Ange format för x-axeln\n",
    "plt.gca().xaxis.set_major_formatter(mdates.DateFormatter('%Y'))\n",
    "plt.gca().xaxis.set_major_locator(mdates.YearLocator())\n",
    "\n",
    "plt.legend()\n",
    "plt.show()"
   ]
  },
  {
   "cell_type": "markdown",
   "metadata": {},
   "source": [
    "Efter handledningsmöte med Raphael Korsoski har jag beslutat att gå vidare med detta projekt. Jag fick tips av Raphael att titta på ett exempel i \"https://www.statlearning.com/\" och försöka applicera det exemplet på min data. Exemplet går igenom Logistic Regression, LDA, QDA, and KNN\n",
    "Jag har även läst en del om LSTM, Neutral Network som jag kan tänka mig att prova."
   ]
  }
 ],
 "metadata": {
  "kernelspec": {
   "display_name": "aras_venv3.9",
   "language": "python",
   "name": "python3"
  },
  "language_info": {
   "codemirror_mode": {
    "name": "ipython",
    "version": 3
   },
   "file_extension": ".py",
   "mimetype": "text/x-python",
   "name": "python",
   "nbconvert_exporter": "python",
   "pygments_lexer": "ipython3",
   "version": "3.9.19"
  }
 },
 "nbformat": 4,
 "nbformat_minor": 2
}
