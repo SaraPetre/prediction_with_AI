{
 "cells": [
  {
   "cell_type": "code",
   "execution_count": 6,
   "metadata": {},
   "outputs": [],
   "source": [
    "import numpy as np\n",
    "import pandas as pd\n",
    "from matplotlib.pyplot import subplots\n",
    "import statsmodels.api as sm\n",
    "from ISLP import load_data\n",
    "from ISLP.models import (ModelSpec as MS,summarize)"
   ]
  },
  {
   "cell_type": "code",
   "execution_count": 25,
   "metadata": {},
   "outputs": [],
   "source": [
    "from ISLP import confusion_table\n",
    "from ISLP.models import contrast\n",
    "from sklearn.discriminant_analysis import \\\n",
    "(LinearDiscriminantAnalysis as LDA,\n",
    "QuadraticDiscriminantAnalysis as QDA)\n",
    "from sklearn.naive_bayes import GaussianNB\n",
    "from sklearn.neighbors import KNeighborsClassifier\n",
    "from sklearn.preprocessing import StandardScaler\n",
    "from sklearn.model_selection import train_test_split\n",
    "from sklearn.linear_model import LogisticRegression"
   ]
  },
  {
   "cell_type": "code",
   "execution_count": 6,
   "metadata": {},
   "outputs": [
    {
     "data": {
      "text/html": [
       "<div>\n",
       "<style scoped>\n",
       "    .dataframe tbody tr th:only-of-type {\n",
       "        vertical-align: middle;\n",
       "    }\n",
       "\n",
       "    .dataframe tbody tr th {\n",
       "        vertical-align: top;\n",
       "    }\n",
       "\n",
       "    .dataframe thead th {\n",
       "        text-align: right;\n",
       "    }\n",
       "</style>\n",
       "<table border=\"1\" class=\"dataframe\">\n",
       "  <thead>\n",
       "    <tr style=\"text-align: right;\">\n",
       "      <th></th>\n",
       "      <th>timestamp</th>\n",
       "      <th>open</th>\n",
       "      <th>high</th>\n",
       "      <th>low</th>\n",
       "      <th>close</th>\n",
       "    </tr>\n",
       "  </thead>\n",
       "  <tbody>\n",
       "    <tr>\n",
       "      <th>0</th>\n",
       "      <td>2023-03-28</td>\n",
       "      <td>18499.0</td>\n",
       "      <td>18580.0</td>\n",
       "      <td>17657.0</td>\n",
       "      <td>17828.0</td>\n",
       "    </tr>\n",
       "    <tr>\n",
       "      <th>1</th>\n",
       "      <td>2023-04-01</td>\n",
       "      <td>17802.0</td>\n",
       "      <td>19094.0</td>\n",
       "      <td>17694.0</td>\n",
       "      <td>18931.0</td>\n",
       "    </tr>\n",
       "    <tr>\n",
       "      <th>2</th>\n",
       "      <td>2023-04-05</td>\n",
       "      <td>18929.0</td>\n",
       "      <td>19438.0</td>\n",
       "      <td>18385.0</td>\n",
       "      <td>19226.0</td>\n",
       "    </tr>\n",
       "    <tr>\n",
       "      <th>3</th>\n",
       "      <td>2023-04-09</td>\n",
       "      <td>19240.0</td>\n",
       "      <td>19932.0</td>\n",
       "      <td>19193.0</td>\n",
       "      <td>19385.0</td>\n",
       "    </tr>\n",
       "    <tr>\n",
       "      <th>4</th>\n",
       "      <td>2023-04-13</td>\n",
       "      <td>19386.0</td>\n",
       "      <td>20317.0</td>\n",
       "      <td>19204.0</td>\n",
       "      <td>19843.0</td>\n",
       "    </tr>\n",
       "    <tr>\n",
       "      <th>5</th>\n",
       "      <td>2023-04-17</td>\n",
       "      <td>19837.0</td>\n",
       "      <td>22054.0</td>\n",
       "      <td>19663.0</td>\n",
       "      <td>21899.0</td>\n",
       "    </tr>\n",
       "    <tr>\n",
       "      <th>6</th>\n",
       "      <td>2023-04-21</td>\n",
       "      <td>21918.0</td>\n",
       "      <td>21918.0</td>\n",
       "      <td>19859.0</td>\n",
       "      <td>20032.0</td>\n",
       "    </tr>\n",
       "    <tr>\n",
       "      <th>7</th>\n",
       "      <td>2023-04-25</td>\n",
       "      <td>20025.0</td>\n",
       "      <td>20128.0</td>\n",
       "      <td>18690.0</td>\n",
       "      <td>18873.0</td>\n",
       "    </tr>\n",
       "    <tr>\n",
       "      <th>8</th>\n",
       "      <td>2023-04-29</td>\n",
       "      <td>18867.0</td>\n",
       "      <td>20240.0</td>\n",
       "      <td>18587.0</td>\n",
       "      <td>19442.0</td>\n",
       "    </tr>\n",
       "    <tr>\n",
       "      <th>9</th>\n",
       "      <td>2023-05-03</td>\n",
       "      <td>19425.0</td>\n",
       "      <td>19890.0</td>\n",
       "      <td>18708.0</td>\n",
       "      <td>19275.0</td>\n",
       "    </tr>\n",
       "  </tbody>\n",
       "</table>\n",
       "</div>"
      ],
      "text/plain": [
       "    timestamp     open     high      low    close\n",
       "0  2023-03-28  18499.0  18580.0  17657.0  17828.0\n",
       "1  2023-04-01  17802.0  19094.0  17694.0  18931.0\n",
       "2  2023-04-05  18929.0  19438.0  18385.0  19226.0\n",
       "3  2023-04-09  19240.0  19932.0  19193.0  19385.0\n",
       "4  2023-04-13  19386.0  20317.0  19204.0  19843.0\n",
       "5  2023-04-17  19837.0  22054.0  19663.0  21899.0\n",
       "6  2023-04-21  21918.0  21918.0  19859.0  20032.0\n",
       "7  2023-04-25  20025.0  20128.0  18690.0  18873.0\n",
       "8  2023-04-29  18867.0  20240.0  18587.0  19442.0\n",
       "9  2023-05-03  19425.0  19890.0  18708.0  19275.0"
      ]
     },
     "execution_count": 6,
     "metadata": {},
     "output_type": "execute_result"
    }
   ],
   "source": [
    "# Sökvägen till CSV-fil\n",
    "csv_fil_sökväg = \"ethereum_ohlc.csv\"\n",
    "\n",
    "# Läs in CSV-filen\n",
    "crypto_data = pd.read_csv(csv_fil_sökväg)\n",
    "\n",
    "# Visa de första raderna av DataFrame\n",
    "crypto_data.head(10)\n"
   ]
  },
  {
   "cell_type": "code",
   "execution_count": 7,
   "metadata": {},
   "outputs": [
    {
     "name": "stdout",
     "output_type": "stream",
     "text": [
      "Antal rader i datasetet: 92\n"
     ]
    }
   ],
   "source": [
    "# Skriv ut antalet rader i DataFrame\n",
    "print(\"Antal rader i datasetet:\", len(crypto_data))"
   ]
  },
  {
   "cell_type": "code",
   "execution_count": 8,
   "metadata": {},
   "outputs": [
    {
     "data": {
      "text/plain": [
       "Index(['timestamp', 'open', 'high', 'low', 'close'], dtype='object')"
      ]
     },
     "execution_count": 8,
     "metadata": {},
     "output_type": "execute_result"
    }
   ],
   "source": [
    "crypto_data.columns"
   ]
  },
  {
   "cell_type": "markdown",
   "metadata": {},
   "source": [
    "Har nu fått ihop en csv fil där även volymer finns med genom att koppla ihop två API:er. Jag har kört koden i filen lag.py."
   ]
  },
  {
   "cell_type": "code",
   "execution_count": 9,
   "metadata": {},
   "outputs": [
    {
     "data": {
      "text/html": [
       "<div>\n",
       "<style scoped>\n",
       "    .dataframe tbody tr th:only-of-type {\n",
       "        vertical-align: middle;\n",
       "    }\n",
       "\n",
       "    .dataframe tbody tr th {\n",
       "        vertical-align: top;\n",
       "    }\n",
       "\n",
       "    .dataframe thead th {\n",
       "        text-align: right;\n",
       "    }\n",
       "</style>\n",
       "<table border=\"1\" class=\"dataframe\">\n",
       "  <thead>\n",
       "    <tr style=\"text-align: right;\">\n",
       "      <th></th>\n",
       "      <th>timestamp</th>\n",
       "      <th>open</th>\n",
       "      <th>high</th>\n",
       "      <th>low</th>\n",
       "      <th>close</th>\n",
       "      <th>price</th>\n",
       "      <th>total_volumes</th>\n",
       "    </tr>\n",
       "  </thead>\n",
       "  <tbody>\n",
       "    <tr>\n",
       "      <th>0</th>\n",
       "      <td>2023-04-01</td>\n",
       "      <td>17802.0</td>\n",
       "      <td>19094.0</td>\n",
       "      <td>17694.0</td>\n",
       "      <td>18931.0</td>\n",
       "      <td>18930.591628</td>\n",
       "      <td>1.072042e+11</td>\n",
       "    </tr>\n",
       "    <tr>\n",
       "      <th>1</th>\n",
       "      <td>2023-04-05</td>\n",
       "      <td>18929.0</td>\n",
       "      <td>19438.0</td>\n",
       "      <td>18385.0</td>\n",
       "      <td>19226.0</td>\n",
       "      <td>19226.136785</td>\n",
       "      <td>1.189786e+11</td>\n",
       "    </tr>\n",
       "    <tr>\n",
       "      <th>2</th>\n",
       "      <td>2023-04-09</td>\n",
       "      <td>19240.0</td>\n",
       "      <td>19932.0</td>\n",
       "      <td>19193.0</td>\n",
       "      <td>19385.0</td>\n",
       "      <td>19384.757943</td>\n",
       "      <td>6.252271e+10</td>\n",
       "    </tr>\n",
       "    <tr>\n",
       "      <th>3</th>\n",
       "      <td>2023-04-13</td>\n",
       "      <td>19386.0</td>\n",
       "      <td>20317.0</td>\n",
       "      <td>19204.0</td>\n",
       "      <td>19843.0</td>\n",
       "      <td>19843.200760</td>\n",
       "      <td>1.359117e+11</td>\n",
       "    </tr>\n",
       "    <tr>\n",
       "      <th>4</th>\n",
       "      <td>2023-04-17</td>\n",
       "      <td>19837.0</td>\n",
       "      <td>22054.0</td>\n",
       "      <td>19663.0</td>\n",
       "      <td>21899.0</td>\n",
       "      <td>21899.279850</td>\n",
       "      <td>9.178568e+10</td>\n",
       "    </tr>\n",
       "    <tr>\n",
       "      <th>5</th>\n",
       "      <td>2023-04-21</td>\n",
       "      <td>21918.0</td>\n",
       "      <td>21918.0</td>\n",
       "      <td>19859.0</td>\n",
       "      <td>20032.0</td>\n",
       "      <td>20031.702008</td>\n",
       "      <td>1.280417e+11</td>\n",
       "    </tr>\n",
       "    <tr>\n",
       "      <th>6</th>\n",
       "      <td>2023-04-25</td>\n",
       "      <td>20025.0</td>\n",
       "      <td>20128.0</td>\n",
       "      <td>18690.0</td>\n",
       "      <td>18873.0</td>\n",
       "      <td>18872.758935</td>\n",
       "      <td>9.400288e+10</td>\n",
       "    </tr>\n",
       "    <tr>\n",
       "      <th>7</th>\n",
       "      <td>2023-04-29</td>\n",
       "      <td>18867.0</td>\n",
       "      <td>20240.0</td>\n",
       "      <td>18587.0</td>\n",
       "      <td>19442.0</td>\n",
       "      <td>19442.136540</td>\n",
       "      <td>9.086059e+10</td>\n",
       "    </tr>\n",
       "    <tr>\n",
       "      <th>8</th>\n",
       "      <td>2023-05-03</td>\n",
       "      <td>19425.0</td>\n",
       "      <td>19890.0</td>\n",
       "      <td>18708.0</td>\n",
       "      <td>19275.0</td>\n",
       "      <td>19274.665982</td>\n",
       "      <td>8.590541e+10</td>\n",
       "    </tr>\n",
       "    <tr>\n",
       "      <th>9</th>\n",
       "      <td>2023-05-07</td>\n",
       "      <td>19293.0</td>\n",
       "      <td>20383.0</td>\n",
       "      <td>18920.0</td>\n",
       "      <td>19283.0</td>\n",
       "      <td>19283.475850</td>\n",
       "      <td>1.129963e+11</td>\n",
       "    </tr>\n",
       "  </tbody>\n",
       "</table>\n",
       "</div>"
      ],
      "text/plain": [
       "    timestamp     open     high      low    close         price  total_volumes\n",
       "0  2023-04-01  17802.0  19094.0  17694.0  18931.0  18930.591628   1.072042e+11\n",
       "1  2023-04-05  18929.0  19438.0  18385.0  19226.0  19226.136785   1.189786e+11\n",
       "2  2023-04-09  19240.0  19932.0  19193.0  19385.0  19384.757943   6.252271e+10\n",
       "3  2023-04-13  19386.0  20317.0  19204.0  19843.0  19843.200760   1.359117e+11\n",
       "4  2023-04-17  19837.0  22054.0  19663.0  21899.0  21899.279850   9.178568e+10\n",
       "5  2023-04-21  21918.0  21918.0  19859.0  20032.0  20031.702008   1.280417e+11\n",
       "6  2023-04-25  20025.0  20128.0  18690.0  18873.0  18872.758935   9.400288e+10\n",
       "7  2023-04-29  18867.0  20240.0  18587.0  19442.0  19442.136540   9.086059e+10\n",
       "8  2023-05-03  19425.0  19890.0  18708.0  19275.0  19274.665982   8.590541e+10\n",
       "9  2023-05-07  19293.0  20383.0  18920.0  19283.0  19283.475850   1.129963e+11"
      ]
     },
     "execution_count": 9,
     "metadata": {},
     "output_type": "execute_result"
    }
   ],
   "source": [
    "# Ange sökvägen till din CSV-fil\n",
    "csv_fil_sökväg = \"ethereum_combined_data.csv\"\n",
    "\n",
    "# Läs in CSV-filen\n",
    "crypto_combined_data = pd.read_csv(csv_fil_sökväg)\n",
    "\n",
    "# Visa de första raderna av DataFrame\n",
    "crypto_combined_data.head(10)"
   ]
  },
  {
   "cell_type": "code",
   "execution_count": 10,
   "metadata": {},
   "outputs": [
    {
     "name": "stdout",
     "output_type": "stream",
     "text": [
      "Antal rader i datasetet: 91\n"
     ]
    }
   ],
   "source": [
    "# Skriv ut antalet rader i DataFrame\n",
    "print(\"Antal rader i datasetet:\", len(crypto_combined_data))"
   ]
  },
  {
   "cell_type": "markdown",
   "metadata": {},
   "source": [
    "I och med att dom olika API:erna har olika intervall av datum som dom ger värden så blir det bara 91 rader vilket känns som ett för litet dataset. Jag tror att jag väljer att utvärdera varje dataset för sig i stället. Nedan är hur dataset'et med volym såg ut innan det kombinerades med det tidigare dataset:et. Jag väljer att börja med nedan dataset \"ethereum_market_data_subset.csv\"."
   ]
  },
  {
   "cell_type": "code",
   "execution_count": 11,
   "metadata": {},
   "outputs": [
    {
     "data": {
      "text/html": [
       "<div>\n",
       "<style scoped>\n",
       "    .dataframe tbody tr th:only-of-type {\n",
       "        vertical-align: middle;\n",
       "    }\n",
       "\n",
       "    .dataframe tbody tr th {\n",
       "        vertical-align: top;\n",
       "    }\n",
       "\n",
       "    .dataframe thead th {\n",
       "        text-align: right;\n",
       "    }\n",
       "</style>\n",
       "<table border=\"1\" class=\"dataframe\">\n",
       "  <thead>\n",
       "    <tr style=\"text-align: right;\">\n",
       "      <th></th>\n",
       "      <th>timestamp</th>\n",
       "      <th>price</th>\n",
       "      <th>total_volumes</th>\n",
       "    </tr>\n",
       "  </thead>\n",
       "  <tbody>\n",
       "    <tr>\n",
       "      <th>0</th>\n",
       "      <td>2023-03-29</td>\n",
       "      <td>18390.541156</td>\n",
       "      <td>9.886756e+10</td>\n",
       "    </tr>\n",
       "    <tr>\n",
       "      <th>1</th>\n",
       "      <td>2023-03-30</td>\n",
       "      <td>18663.820127</td>\n",
       "      <td>1.080555e+11</td>\n",
       "    </tr>\n",
       "    <tr>\n",
       "      <th>2</th>\n",
       "      <td>2023-03-31</td>\n",
       "      <td>18571.753863</td>\n",
       "      <td>1.135101e+11</td>\n",
       "    </tr>\n",
       "    <tr>\n",
       "      <th>3</th>\n",
       "      <td>2023-04-01</td>\n",
       "      <td>18930.591628</td>\n",
       "      <td>1.072042e+11</td>\n",
       "    </tr>\n",
       "    <tr>\n",
       "      <th>4</th>\n",
       "      <td>2023-04-02</td>\n",
       "      <td>18920.009442</td>\n",
       "      <td>6.433921e+10</td>\n",
       "    </tr>\n",
       "    <tr>\n",
       "      <th>5</th>\n",
       "      <td>2023-04-03</td>\n",
       "      <td>18740.023847</td>\n",
       "      <td>6.963161e+10</td>\n",
       "    </tr>\n",
       "    <tr>\n",
       "      <th>6</th>\n",
       "      <td>2023-04-04</td>\n",
       "      <td>18766.025878</td>\n",
       "      <td>1.154859e+11</td>\n",
       "    </tr>\n",
       "    <tr>\n",
       "      <th>7</th>\n",
       "      <td>2023-04-05</td>\n",
       "      <td>19226.136785</td>\n",
       "      <td>1.189786e+11</td>\n",
       "    </tr>\n",
       "    <tr>\n",
       "      <th>8</th>\n",
       "      <td>2023-04-06</td>\n",
       "      <td>19903.910848</td>\n",
       "      <td>1.206570e+11</td>\n",
       "    </tr>\n",
       "    <tr>\n",
       "      <th>9</th>\n",
       "      <td>2023-04-07</td>\n",
       "      <td>19524.350078</td>\n",
       "      <td>9.602805e+10</td>\n",
       "    </tr>\n",
       "  </tbody>\n",
       "</table>\n",
       "</div>"
      ],
      "text/plain": [
       "    timestamp         price  total_volumes\n",
       "0  2023-03-29  18390.541156   9.886756e+10\n",
       "1  2023-03-30  18663.820127   1.080555e+11\n",
       "2  2023-03-31  18571.753863   1.135101e+11\n",
       "3  2023-04-01  18930.591628   1.072042e+11\n",
       "4  2023-04-02  18920.009442   6.433921e+10\n",
       "5  2023-04-03  18740.023847   6.963161e+10\n",
       "6  2023-04-04  18766.025878   1.154859e+11\n",
       "7  2023-04-05  19226.136785   1.189786e+11\n",
       "8  2023-04-06  19903.910848   1.206570e+11\n",
       "9  2023-04-07  19524.350078   9.602805e+10"
      ]
     },
     "execution_count": 11,
     "metadata": {},
     "output_type": "execute_result"
    }
   ],
   "source": [
    "# Ange sökvägen till din CSV-fil\n",
    "csv_fil_sökväg = \"ethereum_market_data_subset.csv\"\n",
    "\n",
    "# Läs in CSV-filen\n",
    "crypto_market_data_subset = pd.read_csv(csv_fil_sökväg)\n",
    "\n",
    "# Visa de första raderna av DataFrame\n",
    "crypto_market_data_subset.head(10)"
   ]
  },
  {
   "cell_type": "code",
   "execution_count": 12,
   "metadata": {},
   "outputs": [
    {
     "name": "stdout",
     "output_type": "stream",
     "text": [
      "Antal rader i datasetet: 364\n"
     ]
    }
   ],
   "source": [
    "# Skriv ut antalet rader i DataFrame\n",
    "print(\"Antal rader i datasetet:\", len(crypto_market_data_subset))"
   ]
  },
  {
   "cell_type": "code",
   "execution_count": 13,
   "metadata": {},
   "outputs": [],
   "source": [
    "import matplotlib.pyplot as plt"
   ]
  },
  {
   "cell_type": "code",
   "execution_count": 14,
   "metadata": {},
   "outputs": [],
   "source": [
    "crypto_market_data_subset['timestamp'] = pd.to_datetime(crypto_market_data_subset['timestamp'])"
   ]
  },
  {
   "cell_type": "code",
   "execution_count": 16,
   "metadata": {},
   "outputs": [
    {
     "data": {
      "image/png": "[encoded data removed]",
      "text/plain": [
       "<Figure size 640x480 with 1 Axes>"
      ]
     },
     "metadata": {},
     "output_type": "display_data"
    }
   ],
   "source": [
    "# Plotta datan\n",
    "plt.plot(crypto_market_data_subset['timestamp'], crypto_market_data_subset['price'], label='Pris, SEK')\n",
    "plt.xlabel('Tid')\n",
    "plt.ylabel('Pris')\n",
    "plt.title('Ethereum pris över tid')\n",
    "plt.legend()\n",
    "plt.show()"
   ]
  },
  {
   "cell_type": "code",
   "execution_count": 17,
   "metadata": {},
   "outputs": [
    {
     "data": {
      "image/png": "[encoded data removed]",
      "text/plain": [
       "<Figure size 640x480 with 1 Axes>"
      ]
     },
     "metadata": {},
     "output_type": "display_data"
    }
   ],
   "source": [
    "# Plotta datan\n",
    "plt.plot(crypto_market_data_subset['timestamp'], crypto_market_data_subset['total_volumes'], label='Volume')\n",
    "plt.xlabel('Tid')\n",
    "plt.ylabel('Volumes')\n",
    "plt.title('Ethereum volume över tid')\n",
    "plt.legend()\n",
    "plt.show()"
   ]
  },
  {
   "cell_type": "code",
   "execution_count": 18,
   "metadata": {},
   "outputs": [
    {
     "data": {
      "text/plain": [
       "<bound method NDFrame.head of      timestamp         price  total_volumes\n",
       "0   2023-03-29  18390.541156   9.886756e+10\n",
       "1   2023-03-30  18663.820127   1.080555e+11\n",
       "2   2023-03-31  18571.753863   1.135101e+11\n",
       "3   2023-04-01  18930.591628   1.072042e+11\n",
       "4   2023-04-02  18920.009442   6.433921e+10\n",
       "..         ...           ...            ...\n",
       "359 2024-03-22  36564.429860   2.576570e+11\n",
       "360 2024-03-23  35115.982730   2.340057e+11\n",
       "361 2024-03-24  35438.091943   1.432448e+11\n",
       "362 2024-03-25  36477.479721   1.346166e+11\n",
       "363 2024-03-26  37951.952872   2.104689e+11\n",
       "\n",
       "[364 rows x 3 columns]>"
      ]
     },
     "execution_count": 18,
     "metadata": {},
     "output_type": "execute_result"
    }
   ],
   "source": [
    "crypto_market_data_subset.head"
   ]
  },
  {
   "cell_type": "markdown",
   "metadata": {},
   "source": [
    "### Lägger till LAG1-5 för price och sparar ner som en ny CSV-fil"
   ]
  },
  {
   "cell_type": "code",
   "execution_count": 20,
   "metadata": {},
   "outputs": [],
   "source": [
    "\n",
    "\n",
    "# # # Skapa en kopia av DataFrame\n",
    "# crypto_copy_price_LAG = crypto_market_data_subset.copy()\n",
    "\n",
    "# # Beräkna procentuella avkastningar för Lag1 till Lag5\n",
    "# crypto_copy_price_LAG['Lag1'] = crypto_copy_price_LAG['price'].pct_change(periods=1) * 100\n",
    "# crypto_copy_price_LAG['Lag2'] = crypto_copy_price_LAG['price'].pct_change(periods=2) * 100\n",
    "# crypto_copy_price_LAG['Lag3'] = crypto_copy_price_LAG['price'].pct_change(periods=3) * 100\n",
    "# crypto_copy_price_LAG['Lag4'] = crypto_copy_price_LAG['price'].pct_change(periods=4) * 100\n",
    "# crypto_copy_price_LAG['Lag5'] = crypto_copy_price_LAG['price'].pct_change(periods=5) * 100\n",
    "\n",
    "# # Ta bort rader med NaN-värden (eftersom procentuell förändring inte kan beräknas för de första några raderna)\n",
    "# crypto_copy_price_LAG = crypto_copy_price_LAG.dropna()\n",
    "\n",
    "# # Spara DataFrame till en ny CSV-fil\n",
    "# crypto_copy_price_LAG.to_csv('LAG_on_price_crypto_market_data_subset.csv', index=False)\n",
    "\n"
   ]
  },
  {
   "cell_type": "code",
   "execution_count": 22,
   "metadata": {},
   "outputs": [],
   "source": [
    "import pandas as pd\n",
    "\n",
    "# Skapa en kopia av DataFrame\n",
    "crypto_copy_price_LAG = crypto_market_data_subset.copy()\n",
    "\n",
    "# Skapa laggade värden för Lag1 till Lag5 med shift\n",
    "for lag in range(1, 6):\n",
    "    crypto_copy_price_LAG[f'Lag{lag}'] = crypto_copy_price_LAG['price'].shift(lag)\n",
    "\n",
    "# Ta bort rader med NaN-värden (eftersom skiftet inte kan beräknas för de första några raderna)\n",
    "crypto_copy_price_LAG = crypto_copy_price_LAG.dropna()\n",
    "\n",
    "# Spara DataFrame till en ny CSV-fil\n",
    "crypto_copy_price_LAG.to_csv('LAG_on_price_crypto_market_data_subset.csv', index=False)\n"
   ]
  },
  {
   "cell_type": "code",
   "execution_count": 23,
   "metadata": {},
   "outputs": [
    {
     "data": {
      "text/plain": [
       "Index(['timestamp', 'price', 'total_volumes', 'Lag1', 'Lag2', 'Lag3', 'Lag4',\n",
       "       'Lag5'],\n",
       "      dtype='object')"
      ]
     },
     "execution_count": 23,
     "metadata": {},
     "output_type": "execute_result"
    }
   ],
   "source": [
    "crypto_copy_price_LAG.columns"
   ]
  },
  {
   "cell_type": "code",
   "execution_count": 24,
   "metadata": {},
   "outputs": [
    {
     "data": {
      "text/plain": [
       "<bound method NDFrame.head of      timestamp         price  total_volumes          Lag1          Lag2  \\\n",
       "5   2023-04-03  18740.023847   6.963161e+10  18920.009442  18930.591628   \n",
       "6   2023-04-04  18766.025878   1.154859e+11  18740.023847  18920.009442   \n",
       "7   2023-04-05  19226.136785   1.189786e+11  18766.025878  18740.023847   \n",
       "8   2023-04-06  19903.910848   1.206570e+11  19226.136785  18766.025878   \n",
       "9   2023-04-07  19524.350078   9.602805e+10  19903.910848  19226.136785   \n",
       "..         ...           ...            ...           ...           ...   \n",
       "359 2024-03-22  36564.429860   2.576570e+11  36456.300341  33091.499797   \n",
       "360 2024-03-23  35115.982730   2.340057e+11  36564.429860  36456.300341   \n",
       "361 2024-03-24  35438.091943   1.432448e+11  35115.982730  36564.429860   \n",
       "362 2024-03-25  36477.479721   1.346166e+11  35438.091943  35115.982730   \n",
       "363 2024-03-26  37951.952872   2.104689e+11  36477.479721  35438.091943   \n",
       "\n",
       "             Lag3          Lag4          Lag5  \n",
       "5    18571.753863  18663.820127  18390.541156  \n",
       "6    18930.591628  18571.753863  18663.820127  \n",
       "7    18920.009442  18930.591628  18571.753863  \n",
       "8    18740.023847  18920.009442  18930.591628  \n",
       "9    18766.025878  18740.023847  18920.009442  \n",
       "..            ...           ...           ...  \n",
       "359  36773.554538  37766.426245  36399.262100  \n",
       "360  33091.499797  36773.554538  37766.426245  \n",
       "361  36456.300341  33091.499797  36773.554538  \n",
       "362  36564.429860  36456.300341  33091.499797  \n",
       "363  35115.982730  36564.429860  36456.300341  \n",
       "\n",
       "[359 rows x 8 columns]>"
      ]
     },
     "execution_count": 24,
     "metadata": {},
     "output_type": "execute_result"
    }
   ],
   "source": [
    "crypto_copy_price_LAG.head"
   ]
  },
  {
   "cell_type": "markdown",
   "metadata": {},
   "source": [
    "Compute the correlation matrix using the corr() method for data .corr() frames, which produces a matrix that contains all of the pairwise correlations among the variables"
   ]
  },
  {
   "cell_type": "code",
   "execution_count": 25,
   "metadata": {},
   "outputs": [
    {
     "name": "stderr",
     "output_type": "stream",
     "text": [
      "/tmp/ipykernel_17687/2139256758.py:1: FutureWarning: The default value of numeric_only in DataFrame.corr is deprecated. In a future version, it will default to False. Select only valid columns or specify the value of numeric_only to silence this warning.\n",
      "  crypto_copy_price_LAG.corr()\n"
     ]
    },
    {
     "data": {
      "text/html": [
       "<div>\n",
       "<style scoped>\n",
       "    .dataframe tbody tr th:only-of-type {\n",
       "        vertical-align: middle;\n",
       "    }\n",
       "\n",
       "    .dataframe tbody tr th {\n",
       "        vertical-align: top;\n",
       "    }\n",
       "\n",
       "    .dataframe thead th {\n",
       "        text-align: right;\n",
       "    }\n",
       "</style>\n",
       "<table border=\"1\" class=\"dataframe\">\n",
       "  <thead>\n",
       "    <tr style=\"text-align: right;\">\n",
       "      <th></th>\n",
       "      <th>price</th>\n",
       "      <th>total_volumes</th>\n",
       "      <th>Lag1</th>\n",
       "      <th>Lag2</th>\n",
       "      <th>Lag3</th>\n",
       "      <th>Lag4</th>\n",
       "      <th>Lag5</th>\n",
       "    </tr>\n",
       "  </thead>\n",
       "  <tbody>\n",
       "    <tr>\n",
       "      <th>price</th>\n",
       "      <td>1.000000</td>\n",
       "      <td>0.614682</td>\n",
       "      <td>0.993048</td>\n",
       "      <td>0.987913</td>\n",
       "      <td>0.982781</td>\n",
       "      <td>0.975159</td>\n",
       "      <td>0.967102</td>\n",
       "    </tr>\n",
       "    <tr>\n",
       "      <th>total_volumes</th>\n",
       "      <td>0.614682</td>\n",
       "      <td>1.000000</td>\n",
       "      <td>0.604231</td>\n",
       "      <td>0.594230</td>\n",
       "      <td>0.580481</td>\n",
       "      <td>0.577379</td>\n",
       "      <td>0.569286</td>\n",
       "    </tr>\n",
       "    <tr>\n",
       "      <th>Lag1</th>\n",
       "      <td>0.993048</td>\n",
       "      <td>0.604231</td>\n",
       "      <td>1.000000</td>\n",
       "      <td>0.992976</td>\n",
       "      <td>0.987889</td>\n",
       "      <td>0.982696</td>\n",
       "      <td>0.974606</td>\n",
       "    </tr>\n",
       "    <tr>\n",
       "      <th>Lag2</th>\n",
       "      <td>0.987913</td>\n",
       "      <td>0.594230</td>\n",
       "      <td>0.992976</td>\n",
       "      <td>1.000000</td>\n",
       "      <td>0.992878</td>\n",
       "      <td>0.987719</td>\n",
       "      <td>0.982346</td>\n",
       "    </tr>\n",
       "    <tr>\n",
       "      <th>Lag3</th>\n",
       "      <td>0.982781</td>\n",
       "      <td>0.580481</td>\n",
       "      <td>0.987889</td>\n",
       "      <td>0.992878</td>\n",
       "      <td>1.000000</td>\n",
       "      <td>0.992758</td>\n",
       "      <td>0.987594</td>\n",
       "    </tr>\n",
       "    <tr>\n",
       "      <th>Lag4</th>\n",
       "      <td>0.975159</td>\n",
       "      <td>0.577379</td>\n",
       "      <td>0.982696</td>\n",
       "      <td>0.987719</td>\n",
       "      <td>0.992758</td>\n",
       "      <td>1.000000</td>\n",
       "      <td>0.992757</td>\n",
       "    </tr>\n",
       "    <tr>\n",
       "      <th>Lag5</th>\n",
       "      <td>0.967102</td>\n",
       "      <td>0.569286</td>\n",
       "      <td>0.974606</td>\n",
       "      <td>0.982346</td>\n",
       "      <td>0.987594</td>\n",
       "      <td>0.992757</td>\n",
       "      <td>1.000000</td>\n",
       "    </tr>\n",
       "  </tbody>\n",
       "</table>\n",
       "</div>"
      ],
      "text/plain": [
       "                  price  total_volumes      Lag1      Lag2      Lag3  \\\n",
       "price          1.000000       0.614682  0.993048  0.987913  0.982781   \n",
       "total_volumes  0.614682       1.000000  0.604231  0.594230  0.580481   \n",
       "Lag1           0.993048       0.604231  1.000000  0.992976  0.987889   \n",
       "Lag2           0.987913       0.594230  0.992976  1.000000  0.992878   \n",
       "Lag3           0.982781       0.580481  0.987889  0.992878  1.000000   \n",
       "Lag4           0.975159       0.577379  0.982696  0.987719  0.992758   \n",
       "Lag5           0.967102       0.569286  0.974606  0.982346  0.987594   \n",
       "\n",
       "                   Lag4      Lag5  \n",
       "price          0.975159  0.967102  \n",
       "total_volumes  0.577379  0.569286  \n",
       "Lag1           0.982696  0.974606  \n",
       "Lag2           0.987719  0.982346  \n",
       "Lag3           0.992758  0.987594  \n",
       "Lag4           1.000000  0.992757  \n",
       "Lag5           0.992757  1.000000  "
      ]
     },
     "execution_count": 25,
     "metadata": {},
     "output_type": "execute_result"
    }
   ],
   "source": [
    "crypto_copy_price_LAG.corr()"
   ]
  },
  {
   "cell_type": "code",
   "execution_count": 133,
   "metadata": {},
   "outputs": [
    {
     "name": "stdout",
     "output_type": "stream",
     "text": [
      "Requirement already satisfied: seaborn in /mnt/c/Users/aras/python_iths/iths_2023_sep_dec/aras_venv/lib/python3.11/site-packages (0.13.2)\n",
      "Requirement already satisfied: numpy!=1.24.0,>=1.20 in /mnt/c/Users/aras/python_iths/iths_2023_sep_dec/aras_venv/lib/python3.11/site-packages (from seaborn) (1.24.4)\n",
      "Requirement already satisfied: pandas>=1.2 in /mnt/c/Users/aras/python_iths/iths_2023_sep_dec/aras_venv/lib/python3.11/site-packages (from seaborn) (1.5.3)\n",
      "Requirement already satisfied: matplotlib!=3.6.1,>=3.4 in /mnt/c/Users/aras/python_iths/iths_2023_sep_dec/aras_venv/lib/python3.11/site-packages (from seaborn) (3.8.3)\n",
      "Requirement already satisfied: contourpy>=1.0.1 in /mnt/c/Users/aras/python_iths/iths_2023_sep_dec/aras_venv/lib/python3.11/site-packages (from matplotlib!=3.6.1,>=3.4->seaborn) (1.2.0)\n",
      "Requirement already satisfied: cycler>=0.10 in /mnt/c/Users/aras/python_iths/iths_2023_sep_dec/aras_venv/lib/python3.11/site-packages (from matplotlib!=3.6.1,>=3.4->seaborn) (0.12.1)\n",
      "Requirement already satisfied: fonttools>=4.22.0 in /mnt/c/Users/aras/python_iths/iths_2023_sep_dec/aras_venv/lib/python3.11/site-packages (from matplotlib!=3.6.1,>=3.4->seaborn) (4.49.0)\n",
      "Requirement already satisfied: kiwisolver>=1.3.1 in /mnt/c/Users/aras/python_iths/iths_2023_sep_dec/aras_venv/lib/python3.11/site-packages (from matplotlib!=3.6.1,>=3.4->seaborn) (1.4.5)\n",
      "Requirement already satisfied: packaging>=20.0 in /mnt/c/Users/aras/python_iths/iths_2023_sep_dec/aras_venv/lib/python3.11/site-packages (from matplotlib!=3.6.1,>=3.4->seaborn) (23.2)\n",
      "Requirement already satisfied: pillow>=8 in /mnt/c/Users/aras/python_iths/iths_2023_sep_dec/aras_venv/lib/python3.11/site-packages (from matplotlib!=3.6.1,>=3.4->seaborn) (10.2.0)\n",
      "Requirement already satisfied: pyparsing>=2.3.1 in /mnt/c/Users/aras/python_iths/iths_2023_sep_dec/aras_venv/lib/python3.11/site-packages (from matplotlib!=3.6.1,>=3.4->seaborn) (3.1.2)\n",
      "Requirement already satisfied: python-dateutil>=2.7 in /mnt/c/Users/aras/python_iths/iths_2023_sep_dec/aras_venv/lib/python3.11/site-packages (from matplotlib!=3.6.1,>=3.4->seaborn) (2.8.2)\n",
      "Requirement already satisfied: pytz>=2020.1 in /mnt/c/Users/aras/python_iths/iths_2023_sep_dec/aras_venv/lib/python3.11/site-packages (from pandas>=1.2->seaborn) (2023.3.post1)\n",
      "Requirement already satisfied: six>=1.5 in /mnt/c/Users/aras/python_iths/iths_2023_sep_dec/aras_venv/lib/python3.11/site-packages (from python-dateutil>=2.7->matplotlib!=3.6.1,>=3.4->seaborn) (1.16.0)\n",
      "Note: you may need to restart the kernel to use updated packages.\n"
     ]
    }
   ],
   "source": [
    "%pip install seaborn"
   ]
  },
  {
   "cell_type": "markdown",
   "metadata": {},
   "source": [
    "## För att få en mer överskådlig matris görs en plott med färger, se nedan."
   ]
  },
  {
   "cell_type": "code",
   "execution_count": 26,
   "metadata": {},
   "outputs": [
    {
     "name": "stderr",
     "output_type": "stream",
     "text": [
      "/tmp/ipykernel_17687/43768710.py:6: FutureWarning: The default value of numeric_only in DataFrame.corr is deprecated. In a future version, it will default to False. Select only valid columns or specify the value of numeric_only to silence this warning.\n",
      "  sns.heatmap(crypto_copy_price_LAG.corr(), annot=True, cmap='YlGn', fmt=\".2f\")\n"
     ]
    },
    {
     "data": {
      "image/png": "[encoded data removed]",
      "text/plain": [
       "<Figure size 1000x800 with 2 Axes>"
      ]
     },
     "metadata": {},
     "output_type": "display_data"
    }
   ],
   "source": [
    "import seaborn as sns\n",
    "import matplotlib.pyplot as plt\n",
    "\n",
    "# Skapa en heatmap med korrelationsvärdena\n",
    "plt.figure(figsize=(10, 8))\n",
    "sns.heatmap(crypto_copy_price_LAG.corr(), annot=True, cmap='YlGn', fmt=\".2f\")\n",
    "plt.title('Korrelationsmatris m.a.p price')\n",
    "plt.show()\n"
   ]
  },
  {
   "cell_type": "markdown",
   "metadata": {},
   "source": [
    "### Gör nu samma sak med Volume. Skapar LAG1-5 värden i en sparad kopia."
   ]
  },
  {
   "cell_type": "code",
   "execution_count": 116,
   "metadata": {},
   "outputs": [],
   "source": [
    "## Detta görs på kolumnen total_volumes\n",
    "\n",
    "# Skapa en kopia av DataFrame\n",
    "crypto_copy_total_volumes_LAG = crypto_market_data_subset.copy()\n",
    "\n",
    "# Beräkna procentuella avkastningar för Lag1 till Lag5\n",
    "crypto_copy_total_volumes_LAG['Lag1'] = crypto_copy_total_volumes_LAG['total_volumes'].pct_change(periods=1) * 100\n",
    "crypto_copy_total_volumes_LAG['Lag2'] = crypto_copy_total_volumes_LAG['total_volumes'].pct_change(periods=2) * 100\n",
    "crypto_copy_total_volumes_LAG['Lag3'] = crypto_copy_total_volumes_LAG['total_volumes'].pct_change(periods=3) * 100\n",
    "crypto_copy_total_volumes_LAG['Lag4'] = crypto_copy_total_volumes_LAG['total_volumes'].pct_change(periods=4) * 100\n",
    "crypto_copy_total_volumes_LAG['Lag5'] = crypto_copy_total_volumes_LAG['total_volumes'].pct_change(periods=5) * 100\n",
    "\n",
    "# Ta bort rader med NaN-värden (eftersom procentuell förändring inte kan beräknas för de första några raderna)\n",
    "crypto_copy_total_volumes_LAG = crypto_copy_total_volumes_LAG.dropna()\n",
    "\n",
    "# Spara DataFrame till en ny CSV-fil\n",
    "crypto_copy_total_volumes_LAG.to_csv('LAG_on_total_volumes_crypto_market_data_subset.csv', index=False)\n",
    "\n"
   ]
  },
  {
   "cell_type": "code",
   "execution_count": 117,
   "metadata": {},
   "outputs": [
    {
     "data": {
      "text/plain": [
       "Index(['timestamp', 'price', 'total_volumes', 'Lag1', 'Lag2', 'Lag3', 'Lag4',\n",
       "       'Lag5'],\n",
       "      dtype='object')"
      ]
     },
     "execution_count": 117,
     "metadata": {},
     "output_type": "execute_result"
    }
   ],
   "source": [
    "crypto_copy_total_volumes_LAG.columns"
   ]
  },
  {
   "cell_type": "code",
   "execution_count": 118,
   "metadata": {},
   "outputs": [
    {
     "data": {
      "text/plain": [
       "<bound method NDFrame.head of      timestamp         price  total_volumes       Lag1       Lag2       Lag3   \n",
       "5   2023-04-03  18740.023847   6.963161e+10   8.225784 -35.047698 -38.656033  \\\n",
       "6   2023-04-04  18766.025878   1.154859e+11  65.852632  79.495311   7.725103   \n",
       "7   2023-04-05  19226.136785   1.189786e+11   3.024346  70.868590  84.923871   \n",
       "8   2023-04-06  19903.910848   1.206570e+11   1.410699   4.477710  73.279032   \n",
       "9   2023-04-07  19524.350078   9.602805e+10 -20.412356 -19.289613 -16.848652   \n",
       "..         ...           ...            ...        ...        ...        ...   \n",
       "359 2024-03-22  36564.429860   2.576570e+11 -41.252516 -33.503521   1.853055   \n",
       "360 2024-03-23  35115.982730   2.340057e+11  -9.179379 -46.645170 -39.607485   \n",
       "361 2024-03-24  35438.091943   1.432448e+11 -38.785777 -44.404863 -67.339255   \n",
       "362 2024-03-25  36477.479721   1.346166e+11  -6.023338 -42.472916 -47.753545   \n",
       "363 2024-03-26  37951.952872   2.104689e+11  56.346832  46.929535 -10.058227   \n",
       "\n",
       "          Lag4       Lag5  \n",
       "5   -35.559409 -29.570820  \n",
       "6     1.740584   6.876416  \n",
       "7    10.983083   4.817572  \n",
       "8    87.532591  12.548720  \n",
       "9    37.908699  49.252771  \n",
       "..         ...        ...  \n",
       "359  11.549270  22.451850  \n",
       "360  -7.496423   1.309739  \n",
       "361 -63.031191 -43.374654  \n",
       "362 -69.306522 -65.257947  \n",
       "363 -18.314323 -52.011720  \n",
       "\n",
       "[359 rows x 8 columns]>"
      ]
     },
     "execution_count": 118,
     "metadata": {},
     "output_type": "execute_result"
    }
   ],
   "source": [
    "crypto_copy_total_volumes_LAG.head"
   ]
  },
  {
   "cell_type": "code",
   "execution_count": 119,
   "metadata": {},
   "outputs": [
    {
     "data": {
      "text/html": [
       "<div>\n",
       "<style scoped>\n",
       "    .dataframe tbody tr th:only-of-type {\n",
       "        vertical-align: middle;\n",
       "    }\n",
       "\n",
       "    .dataframe tbody tr th {\n",
       "        vertical-align: top;\n",
       "    }\n",
       "\n",
       "    .dataframe thead th {\n",
       "        text-align: right;\n",
       "    }\n",
       "</style>\n",
       "<table border=\"1\" class=\"dataframe\">\n",
       "  <thead>\n",
       "    <tr style=\"text-align: right;\">\n",
       "      <th></th>\n",
       "      <th>timestamp</th>\n",
       "      <th>price</th>\n",
       "      <th>total_volumes</th>\n",
       "      <th>Lag1</th>\n",
       "      <th>Lag2</th>\n",
       "      <th>Lag3</th>\n",
       "      <th>Lag4</th>\n",
       "      <th>Lag5</th>\n",
       "    </tr>\n",
       "  </thead>\n",
       "  <tbody>\n",
       "    <tr>\n",
       "      <th>timestamp</th>\n",
       "      <td>1.000000</td>\n",
       "      <td>0.709673</td>\n",
       "      <td>0.538149</td>\n",
       "      <td>-0.015169</td>\n",
       "      <td>0.011379</td>\n",
       "      <td>0.033958</td>\n",
       "      <td>0.046361</td>\n",
       "      <td>0.043521</td>\n",
       "    </tr>\n",
       "    <tr>\n",
       "      <th>price</th>\n",
       "      <td>0.709673</td>\n",
       "      <td>1.000000</td>\n",
       "      <td>0.614682</td>\n",
       "      <td>-0.029252</td>\n",
       "      <td>-0.025437</td>\n",
       "      <td>-0.002110</td>\n",
       "      <td>0.017330</td>\n",
       "      <td>-0.003022</td>\n",
       "    </tr>\n",
       "    <tr>\n",
       "      <th>total_volumes</th>\n",
       "      <td>0.538149</td>\n",
       "      <td>0.614682</td>\n",
       "      <td>1.000000</td>\n",
       "      <td>0.364147</td>\n",
       "      <td>0.436193</td>\n",
       "      <td>0.482227</td>\n",
       "      <td>0.494964</td>\n",
       "      <td>0.457645</td>\n",
       "    </tr>\n",
       "    <tr>\n",
       "      <th>Lag1</th>\n",
       "      <td>-0.015169</td>\n",
       "      <td>-0.029252</td>\n",
       "      <td>0.364147</td>\n",
       "      <td>1.000000</td>\n",
       "      <td>0.743424</td>\n",
       "      <td>0.438730</td>\n",
       "      <td>0.363565</td>\n",
       "      <td>0.356324</td>\n",
       "    </tr>\n",
       "    <tr>\n",
       "      <th>Lag2</th>\n",
       "      <td>0.011379</td>\n",
       "      <td>-0.025437</td>\n",
       "      <td>0.436193</td>\n",
       "      <td>0.743424</td>\n",
       "      <td>1.000000</td>\n",
       "      <td>0.695820</td>\n",
       "      <td>0.460523</td>\n",
       "      <td>0.418370</td>\n",
       "    </tr>\n",
       "    <tr>\n",
       "      <th>Lag3</th>\n",
       "      <td>0.033958</td>\n",
       "      <td>-0.002110</td>\n",
       "      <td>0.482227</td>\n",
       "      <td>0.438730</td>\n",
       "      <td>0.695820</td>\n",
       "      <td>1.000000</td>\n",
       "      <td>0.668041</td>\n",
       "      <td>0.486326</td>\n",
       "    </tr>\n",
       "    <tr>\n",
       "      <th>Lag4</th>\n",
       "      <td>0.046361</td>\n",
       "      <td>0.017330</td>\n",
       "      <td>0.494964</td>\n",
       "      <td>0.363565</td>\n",
       "      <td>0.460523</td>\n",
       "      <td>0.668041</td>\n",
       "      <td>1.000000</td>\n",
       "      <td>0.708892</td>\n",
       "    </tr>\n",
       "    <tr>\n",
       "      <th>Lag5</th>\n",
       "      <td>0.043521</td>\n",
       "      <td>-0.003022</td>\n",
       "      <td>0.457645</td>\n",
       "      <td>0.356324</td>\n",
       "      <td>0.418370</td>\n",
       "      <td>0.486326</td>\n",
       "      <td>0.708892</td>\n",
       "      <td>1.000000</td>\n",
       "    </tr>\n",
       "  </tbody>\n",
       "</table>\n",
       "</div>"
      ],
      "text/plain": [
       "               timestamp     price  total_volumes      Lag1      Lag2   \n",
       "timestamp       1.000000  0.709673       0.538149 -0.015169  0.011379  \\\n",
       "price           0.709673  1.000000       0.614682 -0.029252 -0.025437   \n",
       "total_volumes   0.538149  0.614682       1.000000  0.364147  0.436193   \n",
       "Lag1           -0.015169 -0.029252       0.364147  1.000000  0.743424   \n",
       "Lag2            0.011379 -0.025437       0.436193  0.743424  1.000000   \n",
       "Lag3            0.033958 -0.002110       0.482227  0.438730  0.695820   \n",
       "Lag4            0.046361  0.017330       0.494964  0.363565  0.460523   \n",
       "Lag5            0.043521 -0.003022       0.457645  0.356324  0.418370   \n",
       "\n",
       "                   Lag3      Lag4      Lag5  \n",
       "timestamp      0.033958  0.046361  0.043521  \n",
       "price         -0.002110  0.017330 -0.003022  \n",
       "total_volumes  0.482227  0.494964  0.457645  \n",
       "Lag1           0.438730  0.363565  0.356324  \n",
       "Lag2           0.695820  0.460523  0.418370  \n",
       "Lag3           1.000000  0.668041  0.486326  \n",
       "Lag4           0.668041  1.000000  0.708892  \n",
       "Lag5           0.486326  0.708892  1.000000  "
      ]
     },
     "execution_count": 119,
     "metadata": {},
     "output_type": "execute_result"
    }
   ],
   "source": [
    "crypto_copy_total_volumes_LAG.corr()"
   ]
  },
  {
   "cell_type": "code",
   "execution_count": 135,
   "metadata": {},
   "outputs": [
    {
     "data": {
      "image/png": "[encoded data removed]",
      "text/plain": [
       "<Figure size 1000x800 with 2 Axes>"
      ]
     },
     "metadata": {},
     "output_type": "display_data"
    }
   ],
   "source": [
    "import seaborn as sns\n",
    "import matplotlib.pyplot as plt\n",
    "\n",
    "# Skapa en heatmap med korrelationsvärdena\n",
    "plt.figure(figsize=(10, 8))\n",
    "sns.heatmap(crypto_copy_total_volumes_LAG.corr(), annot=True, cmap='YlGn', fmt=\".2f\")\n",
    "plt.title('Korrelationsmatris m.a.p total_volumes')\n",
    "plt.show()\n"
   ]
  },
  {
   "cell_type": "markdown",
   "metadata": {},
   "source": [
    "Logistic Regression\n",
    "Fit a logistic regression model in order to predict Direction using Lag1 through Lag5 and Volume. The sm.GLM() function fts gener- sm.GLM() alized linear models, a class of models that includes logistic regression. generalized Alternatively, the function linear model sm.Logit() fts a logistic regression model directly. The syntax of sm.GLM() is similar to that of sm.OLS(), except that\n",
    "we must pass in the argument family=sm.families.Binomial() in order to\n",
    "tell statsmodels to run a logistic regression rather than some other type of\n",
    "generalized linear model"
   ]
  },
  {
   "cell_type": "markdown",
   "metadata": {},
   "source": [
    "### Lägger först till en kolumn \"Directions\" som visar om priset har gått upp eller ner sedan tidigare dag. Sparar ner det nya datasetten i en csv \"ethereum_market_data_subset_with_direction.csv\""
   ]
  },
  {
   "cell_type": "code",
   "execution_count": 6,
   "metadata": {},
   "outputs": [],
   "source": [
    "import pandas as pd\n",
    "\n",
    "# Läs in datasetet\n",
    "df = pd.read_csv(\"ethereum_market_data_subset.csv\")\n",
    "\n",
    "# Skapa en kolumn \"Direction\" baserat på prisförändringen jämfört med föregående dag\n",
    "df['Direction'] = df['price'].diff().apply(lambda x: 'Up' if x > 0 else 'Down')\n",
    "\n",
    "# Spara den uppdaterade datan till en ny CSV-fil\n",
    "df.to_csv(\"ethereum_market_data_subset_with_direction.csv\", index=False)\n"
   ]
  },
  {
   "cell_type": "markdown",
   "metadata": {},
   "source": [
    "### Volumes\n",
    "### Behöver göra ovan på  på csv-filen, som innehåller LAG1-5 för volumes istället. För att få alla värden i samma datafil. Se nedan."
   ]
  },
  {
   "cell_type": "code",
   "execution_count": 1,
   "metadata": {},
   "outputs": [],
   "source": [
    "import pandas as pd\n",
    "\n",
    "# Läs in datasetet\n",
    "df_volumes = pd.read_csv(\"LAG_on_total_volumes_crypto_market_data_subset.csv\")\n",
    "\n",
    "# Skapa en kolumn \"Direction\" baserat på prisförändringen jämfört med föregående dag\n",
    "df_volumes['Direction'] = df_volumes['price'].diff().apply(lambda x: 'Up' if x > 0 else 'Down')\n",
    "\n",
    "# Spara den uppdaterade datan till en ny CSV-fil\n",
    "df_volumes.to_csv(\"LAG_on_volumes_ethereum_market_data_subset_with_direction.csv\", index=False)\n"
   ]
  },
  {
   "cell_type": "code",
   "execution_count": 7,
   "metadata": {},
   "outputs": [],
   "source": [
    "\n",
    "# Läser in datasetet\n",
    "df_with_direction = pd.read_csv(\"LAG_on_crypto_price_market_subset.csv\")\n",
    "\n",
    "# Skapar en kolumn \"Direction\" baserat på prisförändringen jämfört med föregående dag\n",
    "df_with_direction['Direction'] = df_with_direction['Price'].diff().apply(lambda x: 'Up' if x > 0 else 'Down')\n",
    "\n",
    "# Sparar den uppdaterade datan till en ny CSV-fil\n",
    "df_with_direction.to_csv(\"LAG_on_crypto_price_market_subset_with directions.csv\", index=False)\n"
   ]
  },
  {
   "cell_type": "code",
   "execution_count": 8,
   "metadata": {},
   "outputs": [
    {
     "data": {
      "text/plain": [
       "<bound method NDFrame.head of             Date  Price     Lag1     Lag2     Lag3     Lag4     Lag5 Direction\n",
       "0     2018-01-06   8583   8199.0   7959.0   7879.0   7155.0   6345.0      Down\n",
       "1     2018-01-07   9267   8583.0   8199.0   7959.0   7879.0   7155.0        Up\n",
       "2     2018-01-08   9723   9267.0   8583.0   8199.0   7959.0   7879.0        Up\n",
       "3     2018-01-09  11216   9723.0   9267.0   8583.0   8199.0   7959.0        Up\n",
       "4     2018-01-10  11023  11216.0   9723.0   9267.0   8583.0   8199.0      Down\n",
       "...          ...    ...      ...      ...      ...      ...      ...       ...\n",
       "1815  2022-12-27  12867  12836.0  12863.0  12857.0  12744.0  12643.0        Up\n",
       "1816  2022-12-28  12698  12867.0  12836.0  12863.0  12857.0  12744.0      Down\n",
       "1817  2022-12-29  12438  12698.0  12867.0  12836.0  12863.0  12857.0      Down\n",
       "1818  2022-12-30  12567  12438.0  12698.0  12867.0  12836.0  12863.0        Up\n",
       "1819  2022-12-31  12503  12567.0  12438.0  12698.0  12867.0  12836.0      Down\n",
       "\n",
       "[1820 rows x 8 columns]>"
      ]
     },
     "execution_count": 8,
     "metadata": {},
     "output_type": "execute_result"
    }
   ],
   "source": [
    "df_with_direction.head"
   ]
  },
  {
   "cell_type": "code",
   "execution_count": 2,
   "metadata": {},
   "outputs": [
    {
     "data": {
      "text/plain": [
       "<bound method NDFrame.head of       timestamp         price  total_volumes       Lag1       Lag2       Lag3  \\\n",
       "0    2023-04-03  18740.023847   6.963161e+10   8.225784 -35.047698 -38.656033   \n",
       "1    2023-04-04  18766.025878   1.154859e+11  65.852632  79.495311   7.725103   \n",
       "2    2023-04-05  19226.136785   1.189786e+11   3.024346  70.868590  84.923871   \n",
       "3    2023-04-06  19903.910848   1.206570e+11   1.410699   4.477710  73.279032   \n",
       "4    2023-04-07  19524.350078   9.602805e+10 -20.412356 -19.289613 -16.848652   \n",
       "..          ...           ...            ...        ...        ...        ...   \n",
       "354  2024-03-22  36564.429860   2.576570e+11 -41.252516 -33.503521   1.853055   \n",
       "355  2024-03-23  35115.982730   2.340057e+11  -9.179379 -46.645170 -39.607485   \n",
       "356  2024-03-24  35438.091943   1.432448e+11 -38.785777 -44.404863 -67.339255   \n",
       "357  2024-03-25  36477.479721   1.346166e+11  -6.023338 -42.472916 -47.753545   \n",
       "358  2024-03-26  37951.952872   2.104689e+11  56.346832  46.929535 -10.058227   \n",
       "\n",
       "          Lag4       Lag5 Direction  \n",
       "0   -35.559409 -29.570820      Down  \n",
       "1     1.740584   6.876416        Up  \n",
       "2    10.983083   4.817572        Up  \n",
       "3    87.532591  12.548720        Up  \n",
       "4    37.908699  49.252771      Down  \n",
       "..         ...        ...       ...  \n",
       "354  11.549270  22.451850        Up  \n",
       "355  -7.496423   1.309739      Down  \n",
       "356 -63.031191 -43.374654        Up  \n",
       "357 -69.306522 -65.257947        Up  \n",
       "358 -18.314323 -52.011720        Up  \n",
       "\n",
       "[359 rows x 9 columns]>"
      ]
     },
     "execution_count": 2,
     "metadata": {},
     "output_type": "execute_result"
    }
   ],
   "source": [
    "df_volumes.head"
   ]
  },
  {
   "cell_type": "code",
   "execution_count": 9,
   "metadata": {},
   "outputs": [
    {
     "name": "stdout",
     "output_type": "stream",
     "text": [
      "Date          object\n",
      "Price          int64\n",
      "Lag1         float64\n",
      "Lag2         float64\n",
      "Lag3         float64\n",
      "Lag4         float64\n",
      "Lag5         float64\n",
      "Direction     object\n",
      "dtype: object\n"
     ]
    }
   ],
   "source": [
    "print(df_with_direction.dtypes)"
   ]
  },
  {
   "cell_type": "code",
   "execution_count": 3,
   "metadata": {},
   "outputs": [
    {
     "name": "stdout",
     "output_type": "stream",
     "text": [
      "timestamp         object\n",
      "price            float64\n",
      "total_volumes    float64\n",
      "Lag1             float64\n",
      "Lag2             float64\n",
      "Lag3             float64\n",
      "Lag4             float64\n",
      "Lag5             float64\n",
      "Direction         object\n",
      "dtype: object\n"
     ]
    }
   ],
   "source": [
    "print(df_volumes.dtypes)"
   ]
  },
  {
   "cell_type": "code",
   "execution_count": 10,
   "metadata": {},
   "outputs": [
    {
     "name": "stderr",
     "output_type": "stream",
     "text": [
      "/tmp/ipykernel_2117/2989462644.py:1: FutureWarning: The default value of numeric_only in DataFrame.corr is deprecated. In a future version, it will default to False. Select only valid columns or specify the value of numeric_only to silence this warning.\n",
      "  df_with_direction.corr()\n"
     ]
    },
    {
     "data": {
      "text/html": [
       "<div>\n",
       "<style scoped>\n",
       "    .dataframe tbody tr th:only-of-type {\n",
       "        vertical-align: middle;\n",
       "    }\n",
       "\n",
       "    .dataframe tbody tr th {\n",
       "        vertical-align: top;\n",
       "    }\n",
       "\n",
       "    .dataframe thead th {\n",
       "        text-align: right;\n",
       "    }\n",
       "</style>\n",
       "<table border=\"1\" class=\"dataframe\">\n",
       "  <thead>\n",
       "    <tr style=\"text-align: right;\">\n",
       "      <th></th>\n",
       "      <th>Price</th>\n",
       "      <th>Lag1</th>\n",
       "      <th>Lag2</th>\n",
       "      <th>Lag3</th>\n",
       "      <th>Lag4</th>\n",
       "      <th>Lag5</th>\n",
       "    </tr>\n",
       "  </thead>\n",
       "  <tbody>\n",
       "    <tr>\n",
       "      <th>Price</th>\n",
       "      <td>1.000000</td>\n",
       "      <td>0.997979</td>\n",
       "      <td>0.996210</td>\n",
       "      <td>0.994364</td>\n",
       "      <td>0.992396</td>\n",
       "      <td>0.990308</td>\n",
       "    </tr>\n",
       "    <tr>\n",
       "      <th>Lag1</th>\n",
       "      <td>0.997979</td>\n",
       "      <td>1.000000</td>\n",
       "      <td>0.997978</td>\n",
       "      <td>0.996210</td>\n",
       "      <td>0.994362</td>\n",
       "      <td>0.992389</td>\n",
       "    </tr>\n",
       "    <tr>\n",
       "      <th>Lag2</th>\n",
       "      <td>0.996210</td>\n",
       "      <td>0.997978</td>\n",
       "      <td>1.000000</td>\n",
       "      <td>0.997978</td>\n",
       "      <td>0.996208</td>\n",
       "      <td>0.994356</td>\n",
       "    </tr>\n",
       "    <tr>\n",
       "      <th>Lag3</th>\n",
       "      <td>0.994364</td>\n",
       "      <td>0.996210</td>\n",
       "      <td>0.997978</td>\n",
       "      <td>1.000000</td>\n",
       "      <td>0.997977</td>\n",
       "      <td>0.996203</td>\n",
       "    </tr>\n",
       "    <tr>\n",
       "      <th>Lag4</th>\n",
       "      <td>0.992396</td>\n",
       "      <td>0.994362</td>\n",
       "      <td>0.996208</td>\n",
       "      <td>0.997977</td>\n",
       "      <td>1.000000</td>\n",
       "      <td>0.997976</td>\n",
       "    </tr>\n",
       "    <tr>\n",
       "      <th>Lag5</th>\n",
       "      <td>0.990308</td>\n",
       "      <td>0.992389</td>\n",
       "      <td>0.994356</td>\n",
       "      <td>0.996203</td>\n",
       "      <td>0.997976</td>\n",
       "      <td>1.000000</td>\n",
       "    </tr>\n",
       "  </tbody>\n",
       "</table>\n",
       "</div>"
      ],
      "text/plain": [
       "          Price      Lag1      Lag2      Lag3      Lag4      Lag5\n",
       "Price  1.000000  0.997979  0.996210  0.994364  0.992396  0.990308\n",
       "Lag1   0.997979  1.000000  0.997978  0.996210  0.994362  0.992389\n",
       "Lag2   0.996210  0.997978  1.000000  0.997978  0.996208  0.994356\n",
       "Lag3   0.994364  0.996210  0.997978  1.000000  0.997977  0.996203\n",
       "Lag4   0.992396  0.994362  0.996208  0.997977  1.000000  0.997976\n",
       "Lag5   0.990308  0.992389  0.994356  0.996203  0.997976  1.000000"
      ]
     },
     "execution_count": 10,
     "metadata": {},
     "output_type": "execute_result"
    }
   ],
   "source": [
    "df_with_direction.corr()"
   ]
  },
  {
   "cell_type": "code",
   "execution_count": 4,
   "metadata": {},
   "outputs": [
    {
     "name": "stderr",
     "output_type": "stream",
     "text": [
      "/tmp/ipykernel_2117/435140426.py:1: FutureWarning: The default value of numeric_only in DataFrame.corr is deprecated. In a future version, it will default to False. Select only valid columns or specify the value of numeric_only to silence this warning.\n",
      "  df_volumes.corr()\n"
     ]
    },
    {
     "data": {
      "text/html": [
       "<div>\n",
       "<style scoped>\n",
       "    .dataframe tbody tr th:only-of-type {\n",
       "        vertical-align: middle;\n",
       "    }\n",
       "\n",
       "    .dataframe tbody tr th {\n",
       "        vertical-align: top;\n",
       "    }\n",
       "\n",
       "    .dataframe thead th {\n",
       "        text-align: right;\n",
       "    }\n",
       "</style>\n",
       "<table border=\"1\" class=\"dataframe\">\n",
       "  <thead>\n",
       "    <tr style=\"text-align: right;\">\n",
       "      <th></th>\n",
       "      <th>price</th>\n",
       "      <th>total_volumes</th>\n",
       "      <th>Lag1</th>\n",
       "      <th>Lag2</th>\n",
       "      <th>Lag3</th>\n",
       "      <th>Lag4</th>\n",
       "      <th>Lag5</th>\n",
       "    </tr>\n",
       "  </thead>\n",
       "  <tbody>\n",
       "    <tr>\n",
       "      <th>price</th>\n",
       "      <td>1.000000</td>\n",
       "      <td>0.614682</td>\n",
       "      <td>-0.029252</td>\n",
       "      <td>-0.025437</td>\n",
       "      <td>-0.002110</td>\n",
       "      <td>0.017330</td>\n",
       "      <td>-0.003022</td>\n",
       "    </tr>\n",
       "    <tr>\n",
       "      <th>total_volumes</th>\n",
       "      <td>0.614682</td>\n",
       "      <td>1.000000</td>\n",
       "      <td>0.364147</td>\n",
       "      <td>0.436193</td>\n",
       "      <td>0.482227</td>\n",
       "      <td>0.494964</td>\n",
       "      <td>0.457645</td>\n",
       "    </tr>\n",
       "    <tr>\n",
       "      <th>Lag1</th>\n",
       "      <td>-0.029252</td>\n",
       "      <td>0.364147</td>\n",
       "      <td>1.000000</td>\n",
       "      <td>0.743424</td>\n",
       "      <td>0.438730</td>\n",
       "      <td>0.363565</td>\n",
       "      <td>0.356324</td>\n",
       "    </tr>\n",
       "    <tr>\n",
       "      <th>Lag2</th>\n",
       "      <td>-0.025437</td>\n",
       "      <td>0.436193</td>\n",
       "      <td>0.743424</td>\n",
       "      <td>1.000000</td>\n",
       "      <td>0.695820</td>\n",
       "      <td>0.460523</td>\n",
       "      <td>0.418370</td>\n",
       "    </tr>\n",
       "    <tr>\n",
       "      <th>Lag3</th>\n",
       "      <td>-0.002110</td>\n",
       "      <td>0.482227</td>\n",
       "      <td>0.438730</td>\n",
       "      <td>0.695820</td>\n",
       "      <td>1.000000</td>\n",
       "      <td>0.668041</td>\n",
       "      <td>0.486326</td>\n",
       "    </tr>\n",
       "    <tr>\n",
       "      <th>Lag4</th>\n",
       "      <td>0.017330</td>\n",
       "      <td>0.494964</td>\n",
       "      <td>0.363565</td>\n",
       "      <td>0.460523</td>\n",
       "      <td>0.668041</td>\n",
       "      <td>1.000000</td>\n",
       "      <td>0.708892</td>\n",
       "    </tr>\n",
       "    <tr>\n",
       "      <th>Lag5</th>\n",
       "      <td>-0.003022</td>\n",
       "      <td>0.457645</td>\n",
       "      <td>0.356324</td>\n",
       "      <td>0.418370</td>\n",
       "      <td>0.486326</td>\n",
       "      <td>0.708892</td>\n",
       "      <td>1.000000</td>\n",
       "    </tr>\n",
       "  </tbody>\n",
       "</table>\n",
       "</div>"
      ],
      "text/plain": [
       "                  price  total_volumes      Lag1      Lag2      Lag3  \\\n",
       "price          1.000000       0.614682 -0.029252 -0.025437 -0.002110   \n",
       "total_volumes  0.614682       1.000000  0.364147  0.436193  0.482227   \n",
       "Lag1          -0.029252       0.364147  1.000000  0.743424  0.438730   \n",
       "Lag2          -0.025437       0.436193  0.743424  1.000000  0.695820   \n",
       "Lag3          -0.002110       0.482227  0.438730  0.695820  1.000000   \n",
       "Lag4           0.017330       0.494964  0.363565  0.460523  0.668041   \n",
       "Lag5          -0.003022       0.457645  0.356324  0.418370  0.486326   \n",
       "\n",
       "                   Lag4      Lag5  \n",
       "price          0.017330 -0.003022  \n",
       "total_volumes  0.494964  0.457645  \n",
       "Lag1           0.363565  0.356324  \n",
       "Lag2           0.460523  0.418370  \n",
       "Lag3           0.668041  0.486326  \n",
       "Lag4           1.000000  0.708892  \n",
       "Lag5           0.708892  1.000000  "
      ]
     },
     "execution_count": 4,
     "metadata": {},
     "output_type": "execute_result"
    }
   ],
   "source": [
    "df_volumes.corr()"
   ]
  },
  {
   "cell_type": "code",
   "execution_count": 11,
   "metadata": {},
   "outputs": [
    {
     "name": "stdout",
     "output_type": "stream",
     "text": [
      "Index(['price', 'total_volumes', 'Lag1', 'Lag2', 'Lag3', 'Lag4', 'Lag5'], dtype='object')\n"
     ]
    },
    {
     "data": {
      "text/html": [
       "<div>\n",
       "<style scoped>\n",
       "    .dataframe tbody tr th:only-of-type {\n",
       "        vertical-align: middle;\n",
       "    }\n",
       "\n",
       "    .dataframe tbody tr th {\n",
       "        vertical-align: top;\n",
       "    }\n",
       "\n",
       "    .dataframe thead th {\n",
       "        text-align: right;\n",
       "    }\n",
       "</style>\n",
       "<table border=\"1\" class=\"dataframe\">\n",
       "  <thead>\n",
       "    <tr style=\"text-align: right;\">\n",
       "      <th></th>\n",
       "      <th>coef</th>\n",
       "      <th>std err</th>\n",
       "      <th>z</th>\n",
       "      <th>P&gt;|z|</th>\n",
       "    </tr>\n",
       "  </thead>\n",
       "  <tbody>\n",
       "    <tr>\n",
       "      <th>intercept</th>\n",
       "      <td>-7.920000e-01</td>\n",
       "      <td>5.290000e-01</td>\n",
       "      <td>-1.496</td>\n",
       "      <td>0.135</td>\n",
       "    </tr>\n",
       "    <tr>\n",
       "      <th>price</th>\n",
       "      <td>4.031000e-05</td>\n",
       "      <td>3.100000e-05</td>\n",
       "      <td>1.301</td>\n",
       "      <td>0.193</td>\n",
       "    </tr>\n",
       "    <tr>\n",
       "      <th>total_volumes</th>\n",
       "      <td>-4.695000e-13</td>\n",
       "      <td>2.330000e-12</td>\n",
       "      <td>-0.202</td>\n",
       "      <td>0.840</td>\n",
       "    </tr>\n",
       "    <tr>\n",
       "      <th>Lag1</th>\n",
       "      <td>2.100000e-03</td>\n",
       "      <td>3.000000e-03</td>\n",
       "      <td>0.819</td>\n",
       "      <td>0.413</td>\n",
       "    </tr>\n",
       "    <tr>\n",
       "      <th>Lag2</th>\n",
       "      <td>-3.000000e-03</td>\n",
       "      <td>2.000000e-03</td>\n",
       "      <td>-1.224</td>\n",
       "      <td>0.221</td>\n",
       "    </tr>\n",
       "    <tr>\n",
       "      <th>Lag3</th>\n",
       "      <td>2.200000e-03</td>\n",
       "      <td>2.000000e-03</td>\n",
       "      <td>1.013</td>\n",
       "      <td>0.311</td>\n",
       "    </tr>\n",
       "    <tr>\n",
       "      <th>Lag4</th>\n",
       "      <td>1.700000e-03</td>\n",
       "      <td>2.000000e-03</td>\n",
       "      <td>0.773</td>\n",
       "      <td>0.440</td>\n",
       "    </tr>\n",
       "    <tr>\n",
       "      <th>Lag5</th>\n",
       "      <td>-3.000000e-04</td>\n",
       "      <td>2.000000e-03</td>\n",
       "      <td>-0.187</td>\n",
       "      <td>0.852</td>\n",
       "    </tr>\n",
       "  </tbody>\n",
       "</table>\n",
       "</div>"
      ],
      "text/plain": [
       "                       coef       std err      z  P>|z|\n",
       "intercept     -7.920000e-01  5.290000e-01 -1.496  0.135\n",
       "price          4.031000e-05  3.100000e-05  1.301  0.193\n",
       "total_volumes -4.695000e-13  2.330000e-12 -0.202  0.840\n",
       "Lag1           2.100000e-03  3.000000e-03  0.819  0.413\n",
       "Lag2          -3.000000e-03  2.000000e-03 -1.224  0.221\n",
       "Lag3           2.200000e-03  2.000000e-03  1.013  0.311\n",
       "Lag4           1.700000e-03  2.000000e-03  0.773  0.440\n",
       "Lag5          -3.000000e-04  2.000000e-03 -0.187  0.852"
      ]
     },
     "execution_count": 11,
     "metadata": {},
     "output_type": "execute_result"
    }
   ],
   "source": [
    "allvars = df_volumes.columns.drop(['timestamp', \"Direction\"])\n",
    "print(allvars)\n",
    "design = MS(allvars)\n",
    "X = design.fit_transform(df_volumes)\n",
    "y = df_volumes.Direction == 'Up'\n",
    "glm = sm.GLM(y,\n",
    "X,\n",
    "family=sm.families.Binomial())\n",
    "results = glm.fit()\n",
    "summarize(results)"
   ]
  },
  {
   "cell_type": "code",
   "execution_count": 12,
   "metadata": {},
   "outputs": [
    {
     "data": {
      "text/plain": [
       "intercept       -7.920467e-01\n",
       "price            4.030858e-05\n",
       "total_volumes   -4.694820e-13\n",
       "Lag1             2.109465e-03\n",
       "Lag2            -2.953270e-03\n",
       "Lag3             2.241885e-03\n",
       "Lag4             1.731977e-03\n",
       "Lag5            -3.231363e-04\n",
       "dtype: float64"
      ]
     },
     "execution_count": 12,
     "metadata": {},
     "output_type": "execute_result"
    }
   ],
   "source": [
    "results.params"
   ]
  },
  {
   "cell_type": "code",
   "execution_count": 13,
   "metadata": {},
   "outputs": [
    {
     "data": {
      "text/plain": [
       "intercept        0.134632\n",
       "price            0.193213\n",
       "total_volumes    0.840028\n",
       "Lag1             0.412511\n",
       "Lag2             0.220936\n",
       "Lag3             0.311069\n",
       "Lag4             0.439816\n",
       "Lag5             0.851830\n",
       "dtype: float64"
      ]
     },
     "execution_count": 13,
     "metadata": {},
     "output_type": "execute_result"
    }
   ],
   "source": [
    "results.pvalues"
   ]
  },
  {
   "cell_type": "code",
   "execution_count": 14,
   "metadata": {},
   "outputs": [
    {
     "data": {
      "text/plain": [
       "array([0.47821594, 0.45820295, 0.4830101 , 0.56345353, 0.49393678,\n",
       "       0.48235891, 0.45317097, 0.4933694 , 0.46877283, 0.506883  ])"
      ]
     },
     "execution_count": 14,
     "metadata": {},
     "output_type": "execute_result"
    }
   ],
   "source": [
    "probs = results.predict()\n",
    "probs[:10]"
   ]
  },
  {
   "cell_type": "markdown",
   "metadata": {},
   "source": [
    "In order to make a prediction as to whether the market will go up or\n",
    "down on a particular day, we must convert these predicted probabilities\n",
    "into class labels, Up or Down. The following two commands create a vector\n",
    "of class predictions based on whether the predicted probability of a market\n",
    "increase is greater than or less than 0.5."
   ]
  },
  {
   "cell_type": "markdown",
   "metadata": {},
   "source": []
  },
  {
   "cell_type": "code",
   "execution_count": 27,
   "metadata": {},
   "outputs": [
    {
     "ename": "IndexError",
     "evalue": "boolean index did not match indexed array along dimension 0; dimension is 359 but corresponding boolean dimension is 86",
     "output_type": "error",
     "traceback": [
      "\u001b[0;31m---------------------------------------------------------------------------\u001b[0m",
      "\u001b[0;31mIndexError\u001b[0m                                Traceback (most recent call last)",
      "Cell \u001b[0;32mIn[27], line 2\u001b[0m\n\u001b[1;32m      1\u001b[0m labels \u001b[38;5;241m=\u001b[39m np\u001b[38;5;241m.\u001b[39marray([\u001b[38;5;124m'\u001b[39m\u001b[38;5;124mDown\u001b[39m\u001b[38;5;124m'\u001b[39m]\u001b[38;5;241m*\u001b[39m\u001b[38;5;241m359\u001b[39m)\n\u001b[0;32m----> 2\u001b[0m \u001b[43mlabels\u001b[49m\u001b[43m[\u001b[49m\u001b[43mprobs\u001b[49m\u001b[43m \u001b[49m\u001b[38;5;241;43m>\u001b[39;49m\u001b[38;5;241;43m0.5\u001b[39;49m\u001b[43m]\u001b[49m \u001b[38;5;241m=\u001b[39m \u001b[38;5;124m\"\u001b[39m\u001b[38;5;124mUp\u001b[39m\u001b[38;5;124m\"\u001b[39m\n",
      "\u001b[0;31mIndexError\u001b[0m: boolean index did not match indexed array along dimension 0; dimension is 359 but corresponding boolean dimension is 86"
     ]
    }
   ],
   "source": [
    "labels = np.array(['Down']*359)\n",
    "labels[probs >0.5] = \"Up\""
   ]
  },
  {
   "cell_type": "markdown",
   "metadata": {},
   "source": [
    "The confusion_table() function from the ISLP package summarizes these confusion_\n",
    "table() predictions, showing how many observations were correctly or incorrectly\n",
    "classifed. Our function, which is adapted from a similar function in the\n",
    "module sklearn.metrics, transposes the resulting matrix and includes row\n",
    "and column labels. The confusion_table() function takes as"
   ]
  },
  {
   "cell_type": "code",
   "execution_count": 16,
   "metadata": {},
   "outputs": [],
   "source": [
    "from sklearn.metrics import confusion_matrix"
   ]
  },
  {
   "cell_type": "code",
   "execution_count": 26,
   "metadata": {},
   "outputs": [
    {
     "ename": "ValueError",
     "evalue": "Found input variables with inconsistent numbers of samples: [86, 359]",
     "output_type": "error",
     "traceback": [
      "\u001b[0;31m---------------------------------------------------------------------------\u001b[0m",
      "\u001b[0;31mValueError\u001b[0m                                Traceback (most recent call last)",
      "Cell \u001b[0;32mIn[26], line 1\u001b[0m\n\u001b[0;32m----> 1\u001b[0m \u001b[43mconfusion_matrix\u001b[49m\u001b[43m(\u001b[49m\u001b[43mlabels\u001b[49m\u001b[43m,\u001b[49m\u001b[43m \u001b[49m\u001b[43mdf_volumes\u001b[49m\u001b[38;5;241;43m.\u001b[39;49m\u001b[43mDirection\u001b[49m\u001b[43m)\u001b[49m\n",
      "File \u001b[0;32m/mnt/c/Users/aras/python_iths/iths_2023_sep_dec/aras_venv/lib/python3.11/site-packages/sklearn/utils/_param_validation.py:211\u001b[0m, in \u001b[0;36mvalidate_params.<locals>.decorator.<locals>.wrapper\u001b[0;34m(*args, **kwargs)\u001b[0m\n\u001b[1;32m    205\u001b[0m \u001b[38;5;28;01mtry\u001b[39;00m:\n\u001b[1;32m    206\u001b[0m     \u001b[38;5;28;01mwith\u001b[39;00m config_context(\n\u001b[1;32m    207\u001b[0m         skip_parameter_validation\u001b[38;5;241m=\u001b[39m(\n\u001b[1;32m    208\u001b[0m             prefer_skip_nested_validation \u001b[38;5;129;01mor\u001b[39;00m global_skip_validation\n\u001b[1;32m    209\u001b[0m         )\n\u001b[1;32m    210\u001b[0m     ):\n\u001b[0;32m--> 211\u001b[0m         \u001b[38;5;28;01mreturn\u001b[39;00m \u001b[43mfunc\u001b[49m\u001b[43m(\u001b[49m\u001b[38;5;241;43m*\u001b[39;49m\u001b[43margs\u001b[49m\u001b[43m,\u001b[49m\u001b[43m \u001b[49m\u001b[38;5;241;43m*\u001b[39;49m\u001b[38;5;241;43m*\u001b[39;49m\u001b[43mkwargs\u001b[49m\u001b[43m)\u001b[49m\n\u001b[1;32m    212\u001b[0m \u001b[38;5;28;01mexcept\u001b[39;00m InvalidParameterError \u001b[38;5;28;01mas\u001b[39;00m e:\n\u001b[1;32m    213\u001b[0m     \u001b[38;5;66;03m# When the function is just a wrapper around an estimator, we allow\u001b[39;00m\n\u001b[1;32m    214\u001b[0m     \u001b[38;5;66;03m# the function to delegate validation to the estimator, but we replace\u001b[39;00m\n\u001b[1;32m    215\u001b[0m     \u001b[38;5;66;03m# the name of the estimator by the name of the function in the error\u001b[39;00m\n\u001b[1;32m    216\u001b[0m     \u001b[38;5;66;03m# message to avoid confusion.\u001b[39;00m\n\u001b[1;32m    217\u001b[0m     msg \u001b[38;5;241m=\u001b[39m re\u001b[38;5;241m.\u001b[39msub(\n\u001b[1;32m    218\u001b[0m         \u001b[38;5;124mr\u001b[39m\u001b[38;5;124m\"\u001b[39m\u001b[38;5;124mparameter of \u001b[39m\u001b[38;5;124m\\\u001b[39m\u001b[38;5;124mw+ must be\u001b[39m\u001b[38;5;124m\"\u001b[39m,\n\u001b[1;32m    219\u001b[0m         \u001b[38;5;124mf\u001b[39m\u001b[38;5;124m\"\u001b[39m\u001b[38;5;124mparameter of \u001b[39m\u001b[38;5;132;01m{\u001b[39;00mfunc\u001b[38;5;241m.\u001b[39m\u001b[38;5;18m__qualname__\u001b[39m\u001b[38;5;132;01m}\u001b[39;00m\u001b[38;5;124m must be\u001b[39m\u001b[38;5;124m\"\u001b[39m,\n\u001b[1;32m    220\u001b[0m         \u001b[38;5;28mstr\u001b[39m(e),\n\u001b[1;32m    221\u001b[0m     )\n",
      "File \u001b[0;32m/mnt/c/Users/aras/python_iths/iths_2023_sep_dec/aras_venv/lib/python3.11/site-packages/sklearn/metrics/_classification.py:326\u001b[0m, in \u001b[0;36mconfusion_matrix\u001b[0;34m(y_true, y_pred, labels, sample_weight, normalize)\u001b[0m\n\u001b[1;32m    231\u001b[0m \u001b[38;5;129m@validate_params\u001b[39m(\n\u001b[1;32m    232\u001b[0m     {\n\u001b[1;32m    233\u001b[0m         \u001b[38;5;124m\"\u001b[39m\u001b[38;5;124my_true\u001b[39m\u001b[38;5;124m\"\u001b[39m: [\u001b[38;5;124m\"\u001b[39m\u001b[38;5;124marray-like\u001b[39m\u001b[38;5;124m\"\u001b[39m],\n\u001b[0;32m   (...)\u001b[0m\n\u001b[1;32m    242\u001b[0m     y_true, y_pred, \u001b[38;5;241m*\u001b[39m, labels\u001b[38;5;241m=\u001b[39m\u001b[38;5;28;01mNone\u001b[39;00m, sample_weight\u001b[38;5;241m=\u001b[39m\u001b[38;5;28;01mNone\u001b[39;00m, normalize\u001b[38;5;241m=\u001b[39m\u001b[38;5;28;01mNone\u001b[39;00m\n\u001b[1;32m    243\u001b[0m ):\n\u001b[1;32m    244\u001b[0m \u001b[38;5;250m    \u001b[39m\u001b[38;5;124;03m\"\"\"Compute confusion matrix to evaluate the accuracy of a classification.\u001b[39;00m\n\u001b[1;32m    245\u001b[0m \n\u001b[1;32m    246\u001b[0m \u001b[38;5;124;03m    By definition a confusion matrix :math:`C` is such that :math:`C_{i, j}`\u001b[39;00m\n\u001b[0;32m   (...)\u001b[0m\n\u001b[1;32m    324\u001b[0m \u001b[38;5;124;03m    (0, 2, 1, 1)\u001b[39;00m\n\u001b[1;32m    325\u001b[0m \u001b[38;5;124;03m    \"\"\"\u001b[39;00m\n\u001b[0;32m--> 326\u001b[0m     y_type, y_true, y_pred \u001b[38;5;241m=\u001b[39m \u001b[43m_check_targets\u001b[49m\u001b[43m(\u001b[49m\u001b[43my_true\u001b[49m\u001b[43m,\u001b[49m\u001b[43m \u001b[49m\u001b[43my_pred\u001b[49m\u001b[43m)\u001b[49m\n\u001b[1;32m    327\u001b[0m     \u001b[38;5;28;01mif\u001b[39;00m y_type \u001b[38;5;129;01mnot\u001b[39;00m \u001b[38;5;129;01min\u001b[39;00m (\u001b[38;5;124m\"\u001b[39m\u001b[38;5;124mbinary\u001b[39m\u001b[38;5;124m\"\u001b[39m, \u001b[38;5;124m\"\u001b[39m\u001b[38;5;124mmulticlass\u001b[39m\u001b[38;5;124m\"\u001b[39m):\n\u001b[1;32m    328\u001b[0m         \u001b[38;5;28;01mraise\u001b[39;00m \u001b[38;5;167;01mValueError\u001b[39;00m(\u001b[38;5;124m\"\u001b[39m\u001b[38;5;132;01m%s\u001b[39;00m\u001b[38;5;124m is not supported\u001b[39m\u001b[38;5;124m\"\u001b[39m \u001b[38;5;241m%\u001b[39m y_type)\n",
      "File \u001b[0;32m/mnt/c/Users/aras/python_iths/iths_2023_sep_dec/aras_venv/lib/python3.11/site-packages/sklearn/metrics/_classification.py:84\u001b[0m, in \u001b[0;36m_check_targets\u001b[0;34m(y_true, y_pred)\u001b[0m\n\u001b[1;32m     57\u001b[0m \u001b[38;5;28;01mdef\u001b[39;00m \u001b[38;5;21m_check_targets\u001b[39m(y_true, y_pred):\n\u001b[1;32m     58\u001b[0m \u001b[38;5;250m    \u001b[39m\u001b[38;5;124;03m\"\"\"Check that y_true and y_pred belong to the same classification task.\u001b[39;00m\n\u001b[1;32m     59\u001b[0m \n\u001b[1;32m     60\u001b[0m \u001b[38;5;124;03m    This converts multiclass or binary types to a common shape, and raises a\u001b[39;00m\n\u001b[0;32m   (...)\u001b[0m\n\u001b[1;32m     82\u001b[0m \u001b[38;5;124;03m    y_pred : array or indicator matrix\u001b[39;00m\n\u001b[1;32m     83\u001b[0m \u001b[38;5;124;03m    \"\"\"\u001b[39;00m\n\u001b[0;32m---> 84\u001b[0m     \u001b[43mcheck_consistent_length\u001b[49m\u001b[43m(\u001b[49m\u001b[43my_true\u001b[49m\u001b[43m,\u001b[49m\u001b[43m \u001b[49m\u001b[43my_pred\u001b[49m\u001b[43m)\u001b[49m\n\u001b[1;32m     85\u001b[0m     type_true \u001b[38;5;241m=\u001b[39m type_of_target(y_true, input_name\u001b[38;5;241m=\u001b[39m\u001b[38;5;124m\"\u001b[39m\u001b[38;5;124my_true\u001b[39m\u001b[38;5;124m\"\u001b[39m)\n\u001b[1;32m     86\u001b[0m     type_pred \u001b[38;5;241m=\u001b[39m type_of_target(y_pred, input_name\u001b[38;5;241m=\u001b[39m\u001b[38;5;124m\"\u001b[39m\u001b[38;5;124my_pred\u001b[39m\u001b[38;5;124m\"\u001b[39m)\n",
      "File \u001b[0;32m/mnt/c/Users/aras/python_iths/iths_2023_sep_dec/aras_venv/lib/python3.11/site-packages/sklearn/utils/validation.py:407\u001b[0m, in \u001b[0;36mcheck_consistent_length\u001b[0;34m(*arrays)\u001b[0m\n\u001b[1;32m    405\u001b[0m uniques \u001b[38;5;241m=\u001b[39m np\u001b[38;5;241m.\u001b[39munique(lengths)\n\u001b[1;32m    406\u001b[0m \u001b[38;5;28;01mif\u001b[39;00m \u001b[38;5;28mlen\u001b[39m(uniques) \u001b[38;5;241m>\u001b[39m \u001b[38;5;241m1\u001b[39m:\n\u001b[0;32m--> 407\u001b[0m     \u001b[38;5;28;01mraise\u001b[39;00m \u001b[38;5;167;01mValueError\u001b[39;00m(\n\u001b[1;32m    408\u001b[0m         \u001b[38;5;124m\"\u001b[39m\u001b[38;5;124mFound input variables with inconsistent numbers of samples: \u001b[39m\u001b[38;5;132;01m%r\u001b[39;00m\u001b[38;5;124m\"\u001b[39m\n\u001b[1;32m    409\u001b[0m         \u001b[38;5;241m%\u001b[39m [\u001b[38;5;28mint\u001b[39m(l) \u001b[38;5;28;01mfor\u001b[39;00m l \u001b[38;5;129;01min\u001b[39;00m lengths]\n\u001b[1;32m    410\u001b[0m     )\n",
      "\u001b[0;31mValueError\u001b[0m: Found input variables with inconsistent numbers of samples: [86, 359]"
     ]
    }
   ],
   "source": [
    "confusion_matrix(labels, df_volumes.Direction)"
   ]
  },
  {
   "cell_type": "markdown",
   "metadata": {},
   "source": [
    "På ovan matrix. Titta på diagonalvärderna. The diagonal elements of the confusion matrix indicate correct predictions. 91 för korrekta down samt 106 för korrekta up. Summa 91+106=197"
   ]
  },
  {
   "cell_type": "code",
   "execution_count": 53,
   "metadata": {},
   "outputs": [
    {
     "data": {
      "text/plain": [
       "(0.5487465181058496, 0.5487465181058496)"
      ]
     },
     "execution_count": 53,
     "metadata": {},
     "output_type": "execute_result"
    }
   ],
   "source": [
    "(91+106)/359, np.mean(labels == df_volumes.Direction)"
   ]
  },
  {
   "cell_type": "markdown",
   "metadata": {},
   "source": [
    "It appears that the logistic regression model is working\n",
    "a little better than random guessing. However, this result is misleading\n",
    "because we trained and tested the model on the same set of 359 observations. In other words, 100 − 54,9 = 45,1 % is the training error rate. As\n",
    "we have seen previously, the training error rate is often overly optimistic\n",
    "— it tends to underestimate the test error rate. In order to better assess\n",
    "the accuracy of the logistic regression model in this setting, we can ft the\n",
    "model using part of the data, and then examine how well it predicts the\n",
    "held out data. This will yield a more realistic error rate, in the sense that in\n",
    "practice we will be interested in our model’s performance not on the data\n",
    "that we used to ft the model, but rather on days in the future for which\n",
    "the market’s movements are unknown.\n",
    "To implement this strategy, we frst create a Boolean vector corresponding to the observations from ?????????. We then use this vector\n",
    "to create a held out data set of observations for the rest of the year."
   ]
  },
  {
   "cell_type": "code",
   "execution_count": 18,
   "metadata": {},
   "outputs": [
    {
     "data": {
      "text/plain": [
       "(86, 9)"
      ]
     },
     "execution_count": 18,
     "metadata": {},
     "output_type": "execute_result"
    }
   ],
   "source": [
    "train = (df_volumes.timestamp < \"2024-01-01\")\n",
    "df_train = df_volumes.loc[train]\n",
    "df_test = df_volumes.loc[~train]\n",
    "df_test.shape"
   ]
  },
  {
   "cell_type": "code",
   "execution_count": 19,
   "metadata": {},
   "outputs": [
    {
     "name": "stdout",
     "output_type": "stream",
     "text": [
      "      timestamp         price  total_volumes       Lag1        Lag2  \\\n",
      "0    2023-04-03  18740.023847   6.963161e+10   8.225784  -35.047698   \n",
      "1    2023-04-04  18766.025878   1.154859e+11  65.852632   79.495311   \n",
      "2    2023-04-05  19226.136785   1.189786e+11   3.024346   70.868590   \n",
      "3    2023-04-06  19903.910848   1.206570e+11   1.410699    4.477710   \n",
      "4    2023-04-07  19524.350078   9.602805e+10 -20.412356  -19.289613   \n",
      "..          ...           ...            ...        ...         ...   \n",
      "268  2023-12-27  22302.232069   1.565027e+11  37.376119   23.835622   \n",
      "269  2023-12-28  23630.102191   2.502159e+11  59.879664  119.636478   \n",
      "270  2023-12-29  23411.330499   2.190165e+11 -12.468995   39.944277   \n",
      "271  2023-12-30  23162.552604   1.826705e+11 -16.595099  -26.994852   \n",
      "272  2023-12-31  23110.353590   1.399734e+11 -23.373853  -36.090038   \n",
      "\n",
      "          Lag3        Lag4        Lag5 Direction  \n",
      "0   -38.656033  -35.559409  -29.570820      Down  \n",
      "1     7.725103    1.740584    6.876416        Up  \n",
      "2    84.923871   10.983083    4.817572        Up  \n",
      "3    73.279032   87.532591   12.548720        Up  \n",
      "4   -16.848652   37.908699   49.252771      Down  \n",
      "..         ...         ...         ...       ...  \n",
      "268  60.199440  -34.294037  -20.336556      Down  \n",
      "269  97.987978  156.126327    5.050472        Up  \n",
      "270  92.250016   73.300867  124.189948      Down  \n",
      "271  16.720386   60.345937   44.541417      Down  \n",
      "272 -44.058968  -10.561666   22.866912      Down  \n",
      "\n",
      "[273 rows x 9 columns]\n"
     ]
    }
   ],
   "source": [
    "print(df_train)"
   ]
  },
  {
   "cell_type": "code",
   "execution_count": 20,
   "metadata": {},
   "outputs": [
    {
     "name": "stdout",
     "output_type": "stream",
     "text": [
      "      timestamp         price  total_volumes        Lag1        Lag2  \\\n",
      "273  2024-01-01  23000.842874   6.774475e+10  -51.601693  -62.914242   \n",
      "274  2024-01-02  23657.195265   9.234409e+10   36.311805  -34.027394   \n",
      "275  2024-01-03  24100.634463   2.102008e+11  127.627775  210.283529   \n",
      "276  2024-01-04  22742.024635   3.543386e+11   68.571480  283.715510   \n",
      "277  2024-01-05  23198.216221   1.873558e+11  -47.125191  -10.868152   \n",
      "..          ...           ...            ...         ...         ...   \n",
      "354  2024-03-22  36564.429860   2.576570e+11  -41.252516  -33.503521   \n",
      "355  2024-03-23  35115.982730   2.340057e+11   -9.179379  -46.645170   \n",
      "356  2024-03-24  35438.091943   1.432448e+11  -38.785777  -44.404863   \n",
      "357  2024-03-25  36477.479721   1.346166e+11   -6.023338  -42.472916   \n",
      "358  2024-03-26  37951.952872   2.104689e+11   56.346832   46.929535   \n",
      "\n",
      "           Lag3        Lag4       Lag5 Direction  \n",
      "273  -69.068660  -72.925487 -56.713360      Down  \n",
      "274  -49.447734  -57.836932 -63.094243        Up  \n",
      "275   50.171976   15.070998  -4.025147        Up  \n",
      "276  423.049539  153.147123  93.976886      Down  \n",
      "277  102.888841  176.561442  33.851057        Up  \n",
      "..          ...         ...        ...       ...  \n",
      "354    1.853055   11.549270  22.451850        Up  \n",
      "355  -39.607485   -7.496423   1.309739      Down  \n",
      "356  -67.339255  -63.031191 -43.374654        Up  \n",
      "357  -47.753545  -69.306522 -65.257947        Up  \n",
      "358  -10.058227  -18.314323 -52.011720        Up  \n",
      "\n",
      "[86 rows x 9 columns]\n"
     ]
    }
   ],
   "source": [
    "print(df_test)"
   ]
  },
  {
   "cell_type": "code",
   "execution_count": 21,
   "metadata": {},
   "outputs": [],
   "source": [
    "X_train, X_test = X.loc[train], X.loc[~train]\n",
    "y_train, y_test = y.loc[train], y.loc[~train]\n",
    "glm_train = sm.GLM(y_train,\n",
    "X_train,\n",
    "family=sm.families.Binomial())\n",
    "results = glm_train.fit()\n",
    "probs = results.predict(exog=X_test)"
   ]
  },
  {
   "cell_type": "code",
   "execution_count": 22,
   "metadata": {},
   "outputs": [],
   "source": [
    "D = df_volumes.Direction\n",
    "L_train, L_test = D.loc[train], D.loc[~train]"
   ]
  },
  {
   "cell_type": "code",
   "execution_count": 23,
   "metadata": {},
   "outputs": [
    {
     "name": "stdout",
     "output_type": "stream",
     "text": [
      "0      Down\n",
      "1        Up\n",
      "2        Up\n",
      "3        Up\n",
      "4      Down\n",
      "       ... \n",
      "354      Up\n",
      "355    Down\n",
      "356      Up\n",
      "357      Up\n",
      "358      Up\n",
      "Name: Direction, Length: 359, dtype: object\n"
     ]
    }
   ],
   "source": [
    "print(D)"
   ]
  },
  {
   "cell_type": "code",
   "execution_count": 28,
   "metadata": {},
   "outputs": [
    {
     "data": {
      "text/html": [
       "<div>\n",
       "<style scoped>\n",
       "    .dataframe tbody tr th:only-of-type {\n",
       "        vertical-align: middle;\n",
       "    }\n",
       "\n",
       "    .dataframe tbody tr th {\n",
       "        vertical-align: top;\n",
       "    }\n",
       "\n",
       "    .dataframe thead th {\n",
       "        text-align: right;\n",
       "    }\n",
       "</style>\n",
       "<table border=\"1\" class=\"dataframe\">\n",
       "  <thead>\n",
       "    <tr style=\"text-align: right;\">\n",
       "      <th>Truth</th>\n",
       "      <th>Down</th>\n",
       "      <th>Up</th>\n",
       "    </tr>\n",
       "    <tr>\n",
       "      <th>Predicted</th>\n",
       "      <th></th>\n",
       "      <th></th>\n",
       "    </tr>\n",
       "  </thead>\n",
       "  <tbody>\n",
       "    <tr>\n",
       "      <th>Down</th>\n",
       "      <td>2</td>\n",
       "      <td>3</td>\n",
       "    </tr>\n",
       "    <tr>\n",
       "      <th>Up</th>\n",
       "      <td>35</td>\n",
       "      <td>46</td>\n",
       "    </tr>\n",
       "  </tbody>\n",
       "</table>\n",
       "</div>"
      ],
      "text/plain": [
       "Truth      Down  Up\n",
       "Predicted          \n",
       "Down          2   3\n",
       "Up           35  46"
      ]
     },
     "execution_count": 28,
     "metadata": {},
     "output_type": "execute_result"
    }
   ],
   "source": [
    "labels = np.array(['Down']*86)\n",
    "labels[probs >0.5] = 'Up'\n",
    "confusion_table(labels, L_test)"
   ]
  },
  {
   "cell_type": "code",
   "execution_count": 29,
   "metadata": {},
   "outputs": [
    {
     "data": {
      "text/plain": [
       "(0.5581395348837209, 0.4418604651162791)"
      ]
     },
     "execution_count": 29,
     "metadata": {},
     "output_type": "execute_result"
    }
   ],
   "source": [
    "np.mean(labels == L_test), np.mean(labels != L_test)"
   ]
  },
  {
   "cell_type": "markdown",
   "metadata": {},
   "source": [
    "The test accuracy is about 55,8 % while the test error rate is about 44,2%"
   ]
  },
  {
   "cell_type": "markdown",
   "metadata": {},
   "source": [
    "Tar nu och väljer ut enbart dom variablerna som  hade någon inverkan på \"prediction\". I mitt fall var det Lag2. Kanske det kan förbättra modellen."
   ]
  },
  {
   "cell_type": "code",
   "execution_count": 30,
   "metadata": {},
   "outputs": [
    {
     "data": {
      "text/html": [
       "<div>\n",
       "<style scoped>\n",
       "    .dataframe tbody tr th:only-of-type {\n",
       "        vertical-align: middle;\n",
       "    }\n",
       "\n",
       "    .dataframe tbody tr th {\n",
       "        vertical-align: top;\n",
       "    }\n",
       "\n",
       "    .dataframe thead th {\n",
       "        text-align: right;\n",
       "    }\n",
       "</style>\n",
       "<table border=\"1\" class=\"dataframe\">\n",
       "  <thead>\n",
       "    <tr style=\"text-align: right;\">\n",
       "      <th>Truth</th>\n",
       "      <th>Down</th>\n",
       "      <th>Up</th>\n",
       "    </tr>\n",
       "    <tr>\n",
       "      <th>Predicted</th>\n",
       "      <th></th>\n",
       "      <th></th>\n",
       "    </tr>\n",
       "  </thead>\n",
       "  <tbody>\n",
       "    <tr>\n",
       "      <th>Down</th>\n",
       "      <td>7</td>\n",
       "      <td>17</td>\n",
       "    </tr>\n",
       "    <tr>\n",
       "      <th>Up</th>\n",
       "      <td>30</td>\n",
       "      <td>32</td>\n",
       "    </tr>\n",
       "  </tbody>\n",
       "</table>\n",
       "</div>"
      ],
      "text/plain": [
       "Truth      Down  Up\n",
       "Predicted          \n",
       "Down          7  17\n",
       "Up           30  32"
      ]
     },
     "execution_count": 30,
     "metadata": {},
     "output_type": "execute_result"
    }
   ],
   "source": [
    "model = MS(['Lag2']).fit(df_volumes)\n",
    "X = model.transform(df_volumes)\n",
    "X_train, X_test = X.loc[train], X.loc[~train]\n",
    "glm_train = sm.GLM(y_train,\n",
    "X_train,\n",
    "family=sm.families.Binomial())\n",
    "results = glm_train.fit()\n",
    "probs = results.predict(exog=X_test)\n",
    "labels = np.array(['Down']*86)\n",
    "labels[probs >0.5] = 'Up'\n",
    "confusion_table(labels, L_test)"
   ]
  },
  {
   "cell_type": "markdown",
   "metadata": {},
   "source": [
    "Evaluate the overall accuracy as well as the accuracy within the\n",
    "days when logistic regression predicts an increase"
   ]
  },
  {
   "cell_type": "code",
   "execution_count": 31,
   "metadata": {},
   "outputs": [
    {
     "data": {
      "text/plain": [
       "(0.45348837209302323, 0.5161290322580645)"
      ]
     },
     "execution_count": 31,
     "metadata": {},
     "output_type": "execute_result"
    }
   ],
   "source": [
    "(32+7)/86,32/(32+30)"
   ]
  },
  {
   "cell_type": "markdown",
   "metadata": {},
   "source": [
    "<span style=\"color:red; font-size:x-large\">The down below are done on kolumn Price</span>\n",
    "\n",
    "### Behöver även göra ovan på kolumn price. Dvs lägga till en column för directions av price på csv-filen, som innehåller LAG1-5 för price. För att få alla värden i samma datafil."
   ]
  },
  {
   "cell_type": "code",
   "execution_count": 27,
   "metadata": {},
   "outputs": [],
   "source": [
    "import pandas as pd\n",
    "\n",
    "# Läs in datasetet\n",
    "df_price = pd.read_csv(\"LAG_on_price_crypto_market_data_subset.csv\")\n",
    "\n",
    "# Skapa en kolumn \"Direction\" baserat på prisförändringen jämfört med föregående dag\n",
    "df_price['Direction'] = df_price['price'].diff().apply(lambda x: 'Up' if x > 0 else 'Down')\n",
    "\n",
    "# Spara den uppdaterade datan till en ny CSV-fil\n",
    "df_price.to_csv(\"LAG_on_price_with_direction.csv\", index=False)\n"
   ]
  },
  {
   "cell_type": "code",
   "execution_count": 30,
   "metadata": {},
   "outputs": [
    {
     "data": {
      "text/plain": [
       "Index(['timestamp', 'price', 'total_volumes', 'Lag1', 'Lag2', 'Lag3', 'Lag4',\n",
       "       'Lag5', 'Direction'],\n",
       "      dtype='object')"
      ]
     },
     "execution_count": 30,
     "metadata": {},
     "output_type": "execute_result"
    }
   ],
   "source": [
    "df_price.columns"
   ]
  },
  {
   "cell_type": "code",
   "execution_count": 28,
   "metadata": {},
   "outputs": [
    {
     "data": {
      "text/plain": [
       "<bound method NDFrame.head of       timestamp         price  total_volumes          Lag1          Lag2  \\\n",
       "0    2023-04-03  18740.023847   6.963161e+10  18920.009442  18930.591628   \n",
       "1    2023-04-04  18766.025878   1.154859e+11  18740.023847  18920.009442   \n",
       "2    2023-04-05  19226.136785   1.189786e+11  18766.025878  18740.023847   \n",
       "3    2023-04-06  19903.910848   1.206570e+11  19226.136785  18766.025878   \n",
       "4    2023-04-07  19524.350078   9.602805e+10  19903.910848  19226.136785   \n",
       "..          ...           ...            ...           ...           ...   \n",
       "354  2024-03-22  36564.429860   2.576570e+11  36456.300341  33091.499797   \n",
       "355  2024-03-23  35115.982730   2.340057e+11  36564.429860  36456.300341   \n",
       "356  2024-03-24  35438.091943   1.432448e+11  35115.982730  36564.429860   \n",
       "357  2024-03-25  36477.479721   1.346166e+11  35438.091943  35115.982730   \n",
       "358  2024-03-26  37951.952872   2.104689e+11  36477.479721  35438.091943   \n",
       "\n",
       "             Lag3          Lag4          Lag5 Direction  \n",
       "0    18571.753863  18663.820127  18390.541156      Down  \n",
       "1    18930.591628  18571.753863  18663.820127        Up  \n",
       "2    18920.009442  18930.591628  18571.753863        Up  \n",
       "3    18740.023847  18920.009442  18930.591628        Up  \n",
       "4    18766.025878  18740.023847  18920.009442      Down  \n",
       "..            ...           ...           ...       ...  \n",
       "354  36773.554538  37766.426245  36399.262100        Up  \n",
       "355  33091.499797  36773.554538  37766.426245      Down  \n",
       "356  36456.300341  33091.499797  36773.554538        Up  \n",
       "357  36564.429860  36456.300341  33091.499797        Up  \n",
       "358  35115.982730  36564.429860  36456.300341        Up  \n",
       "\n",
       "[359 rows x 9 columns]>"
      ]
     },
     "execution_count": 28,
     "metadata": {},
     "output_type": "execute_result"
    }
   ],
   "source": [
    "df_price.head"
   ]
  },
  {
   "cell_type": "code",
   "execution_count": 24,
   "metadata": {},
   "outputs": [
    {
     "name": "stderr",
     "output_type": "stream",
     "text": [
      "/mnt/c/Users/aras/python_iths/iths_2023_sep_dec/aras_venv/lib/python3.11/site-packages/statsmodels/genmod/families/links.py:198: RuntimeWarning: overflow encountered in exp\n",
      "  t = np.exp(-z)\n",
      "/mnt/c/Users/aras/python_iths/iths_2023_sep_dec/aras_venv/lib/python3.11/site-packages/statsmodels/genmod/generalized_linear_model.py:1342: PerfectSeparationWarning: Perfect separation or prediction detected, parameter may not be identified\n",
      "  warnings.warn(msg, category=PerfectSeparationWarning)\n",
      "/mnt/c/Users/aras/python_iths/iths_2023_sep_dec/aras_venv/lib/python3.11/site-packages/statsmodels/genmod/generalized_linear_model.py:1342: PerfectSeparationWarning: Perfect separation or prediction detected, parameter may not be identified\n",
      "  warnings.warn(msg, category=PerfectSeparationWarning)\n",
      "/mnt/c/Users/aras/python_iths/iths_2023_sep_dec/aras_venv/lib/python3.11/site-packages/statsmodels/genmod/generalized_linear_model.py:1342: PerfectSeparationWarning: Perfect separation or prediction detected, parameter may not be identified\n",
      "  warnings.warn(msg, category=PerfectSeparationWarning)\n",
      "/mnt/c/Users/aras/python_iths/iths_2023_sep_dec/aras_venv/lib/python3.11/site-packages/statsmodels/genmod/generalized_linear_model.py:1342: PerfectSeparationWarning: Perfect separation or prediction detected, parameter may not be identified\n",
      "  warnings.warn(msg, category=PerfectSeparationWarning)\n",
      "/mnt/c/Users/aras/python_iths/iths_2023_sep_dec/aras_venv/lib/python3.11/site-packages/statsmodels/genmod/families/family.py:1056: RuntimeWarning: divide by zero encountered in log\n",
      "  special.gammaln(n - y + 1) + y * np.log(mu / (1 - mu + 1e-20)) +\n",
      "/mnt/c/Users/aras/python_iths/iths_2023_sep_dec/aras_venv/lib/python3.11/site-packages/statsmodels/genmod/families/family.py:1056: RuntimeWarning: invalid value encountered in multiply\n",
      "  special.gammaln(n - y + 1) + y * np.log(mu / (1 - mu + 1e-20)) +\n"
     ]
    },
    {
     "data": {
      "text/html": [
       "<div>\n",
       "<style scoped>\n",
       "    .dataframe tbody tr th:only-of-type {\n",
       "        vertical-align: middle;\n",
       "    }\n",
       "\n",
       "    .dataframe tbody tr th {\n",
       "        vertical-align: top;\n",
       "    }\n",
       "\n",
       "    .dataframe thead th {\n",
       "        text-align: right;\n",
       "    }\n",
       "</style>\n",
       "<table border=\"1\" class=\"dataframe\">\n",
       "  <thead>\n",
       "    <tr style=\"text-align: right;\">\n",
       "      <th></th>\n",
       "      <th>coef</th>\n",
       "      <th>std err</th>\n",
       "      <th>z</th>\n",
       "      <th>P&gt;|z|</th>\n",
       "    </tr>\n",
       "  </thead>\n",
       "  <tbody>\n",
       "    <tr>\n",
       "      <th>intercept</th>\n",
       "      <td>-2.271670e+01</td>\n",
       "      <td>460000.000000</td>\n",
       "      <td>-0.000049</td>\n",
       "      <td>1.000</td>\n",
       "    </tr>\n",
       "    <tr>\n",
       "      <th>price</th>\n",
       "      <td>1.700000e-03</td>\n",
       "      <td>25.620000</td>\n",
       "      <td>0.000065</td>\n",
       "      <td>1.000</td>\n",
       "    </tr>\n",
       "    <tr>\n",
       "      <th>total_volumes</th>\n",
       "      <td>-2.741000e-10</td>\n",
       "      <td>0.000001</td>\n",
       "      <td>-0.000000</td>\n",
       "      <td>1.000</td>\n",
       "    </tr>\n",
       "    <tr>\n",
       "      <th>Lag1</th>\n",
       "      <td>7.453060e+02</td>\n",
       "      <td>434000.000000</td>\n",
       "      <td>0.002000</td>\n",
       "      <td>0.999</td>\n",
       "    </tr>\n",
       "    <tr>\n",
       "      <th>Lag2</th>\n",
       "      <td>2.000300e+00</td>\n",
       "      <td>12100.000000</td>\n",
       "      <td>0.000000</td>\n",
       "      <td>1.000</td>\n",
       "    </tr>\n",
       "    <tr>\n",
       "      <th>Lag3</th>\n",
       "      <td>5.228100e+00</td>\n",
       "      <td>87000.000000</td>\n",
       "      <td>0.000060</td>\n",
       "      <td>1.000</td>\n",
       "    </tr>\n",
       "    <tr>\n",
       "      <th>Lag4</th>\n",
       "      <td>-2.516500e+00</td>\n",
       "      <td>31100.000000</td>\n",
       "      <td>-0.000081</td>\n",
       "      <td>1.000</td>\n",
       "    </tr>\n",
       "    <tr>\n",
       "      <th>Lag5</th>\n",
       "      <td>2.236500e+00</td>\n",
       "      <td>33800.000000</td>\n",
       "      <td>0.000066</td>\n",
       "      <td>1.000</td>\n",
       "    </tr>\n",
       "  </tbody>\n",
       "</table>\n",
       "</div>"
      ],
      "text/plain": [
       "                       coef        std err         z  P>|z|\n",
       "intercept     -2.271670e+01  460000.000000 -0.000049  1.000\n",
       "price          1.700000e-03      25.620000  0.000065  1.000\n",
       "total_volumes -2.741000e-10       0.000001 -0.000000  1.000\n",
       "Lag1           7.453060e+02  434000.000000  0.002000  0.999\n",
       "Lag2           2.000300e+00   12100.000000  0.000000  1.000\n",
       "Lag3           5.228100e+00   87000.000000  0.000060  1.000\n",
       "Lag4          -2.516500e+00   31100.000000 -0.000081  1.000\n",
       "Lag5           2.236500e+00   33800.000000  0.000066  1.000"
      ]
     },
     "execution_count": 24,
     "metadata": {},
     "output_type": "execute_result"
    }
   ],
   "source": [
    "allvars = df_price.columns.drop(['timestamp', \"Direction\"])\n",
    "design = MS(allvars)\n",
    "X = design.fit_transform(df_price)\n",
    "y = df_price.Direction == 'Up'\n",
    "glm = sm.GLM(y,\n",
    "X,\n",
    "family=sm.families.Binomial())\n",
    "results = glm.fit()\n",
    "summarize(results)"
   ]
  },
  {
   "cell_type": "markdown",
   "metadata": {},
   "source": [
    "Ett p-värde på 1 indikerar  att det inte finns tillräckligt med bevis för att förkasta nollhypotesen, vilket vanligtvis betyder att det inte finns något verkligt samband eller skillnad. "
   ]
  }
 ],
 "metadata": {
  "kernelspec": {
   "display_name": "aras_venv",
   "language": "python",
   "name": "python3"
  },
  "language_info": {
   "codemirror_mode": {
    "name": "ipython",
    "version": 3
   },
   "file_extension": ".py",
   "mimetype": "text/x-python",
   "name": "python",
   "nbconvert_exporter": "python",
   "pygments_lexer": "ipython3",
   "version": "3.11.3"
  }
 },
 "nbformat": 4,
 "nbformat_minor": 2
}
