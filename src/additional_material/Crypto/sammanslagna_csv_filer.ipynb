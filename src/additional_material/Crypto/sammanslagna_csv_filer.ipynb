{
 "cells": [
  {
   "cell_type": "markdown",
   "metadata": {},
   "source": [
    "Importerar dom 5 csv-filerna som redan finns nerladdade från körning av filen ethereum.py. Observera att filen ethereum inte gå att köra igen då API:et med min API-key inte längre är \"valid\" för att hämta datan igen. Jag måste uppgradera till en högre \"pay-plan\" för att ladda ner nu."
   ]
  },
  {
   "cell_type": "code",
   "execution_count": 2,
   "metadata": {},
   "outputs": [
    {
     "name": "stdout",
     "output_type": "stream",
     "text": [
      "Sammanslagen data har sparats till sammanslagen_data.csv\n"
     ]
    }
   ],
   "source": [
    "import pandas as pd\n",
    "# Ange sökvägarna till CSV-filerna\n",
    "file_paths = ['prices_2018.csv', 'prices_2019.csv', \"prices_2020.csv\", 'prices_2021.csv', 'prices_2022.csv']\n",
    "\n",
    "# Skapa en tom DataFrame för att hålla den sammanslagna datan\n",
    "combined_data = pd.DataFrame()\n",
    "\n",
    "# Loopa igenom varje sökväg och lägg till dess innehåll till den sammanslagna DataFramen\n",
    "for file_path in file_paths:\n",
    "    df = pd.read_csv(file_path)\n",
    "    combined_data = pd.concat([combined_data, df], ignore_index=True)\n",
    "\n",
    " # Skriv den sammanslagna datan till en ny CSV-fil\n",
    "combined_data.to_csv('sammanslagen_data.csv', index=False)\n",
    "\n",
    "print(\"Sammanslagen data har sparats till sammanslagen_data.csv\")"
   ]
  }
 ],
 "metadata": {
  "kernelspec": {
   "display_name": "aras_venv",
   "language": "python",
   "name": "python3"
  },
  "language_info": {
   "codemirror_mode": {
    "name": "ipython",
    "version": 3
   },
   "file_extension": ".py",
   "mimetype": "text/x-python",
   "name": "python",
   "nbconvert_exporter": "python",
   "pygments_lexer": "ipython3",
   "version": "3.11.3"
  }
 },
 "nbformat": 4,
 "nbformat_minor": 2
}
