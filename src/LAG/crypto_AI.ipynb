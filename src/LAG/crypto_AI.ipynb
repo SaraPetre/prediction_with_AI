{
 "cells": [
  {
   "cell_type": "markdown",
   "metadata": {},
   "source": [
    "Följer nedan webbaserad bok kapitel 4.7 för att med  Logistic Regression se om det är möjligt att förutsäga pris på Ethereum (krypto).\n",
    "\n",
    "https://www.statlearning.com/\n",
    "\n",
    "Via ett api på CoinGeckos kryptosida har jag laddat ner data från 2018 och framåt. Datat återfinns i csv-filen \"sammanslagen_data.csv\"."
   ]
  },
  {
   "cell_type": "markdown",
   "metadata": {},
   "source": [
    "Importerar dom bibliotek som behövs."
   ]
  },
  {
   "cell_type": "code",
   "execution_count": 1,
   "metadata": {},
   "outputs": [],
   "source": [
    "import numpy as np\n",
    "import pandas as pd\n",
    "import matplotlib.pyplot as plt\n",
    "import statsmodels.api as sm\n",
    "from ISLP.models import (ModelSpec as MS,summarize)"
   ]
  },
  {
   "cell_type": "code",
   "execution_count": 2,
   "metadata": {},
   "outputs": [],
   "source": [
    "from ISLP import confusion_table\n",
    "from ISLP.models import contrast\n",
    "from sklearn.discriminant_analysis import \\\n",
    "(LinearDiscriminantAnalysis as LDA,\n",
    "QuadraticDiscriminantAnalysis as QDA)\n",
    "from sklearn.naive_bayes import GaussianNB\n",
    "from sklearn.neighbors import KNeighborsClassifier\n",
    "from sklearn.preprocessing import StandardScaler\n",
    "from sklearn.model_selection import train_test_split\n",
    "from sklearn.linear_model import LogisticRegression"
   ]
  },
  {
   "cell_type": "code",
   "execution_count": 3,
   "metadata": {},
   "outputs": [
    {
     "data": {
      "text/html": [
       "<div>\n",
       "<style scoped>\n",
       "    .dataframe tbody tr th:only-of-type {\n",
       "        vertical-align: middle;\n",
       "    }\n",
       "\n",
       "    .dataframe tbody tr th {\n",
       "        vertical-align: top;\n",
       "    }\n",
       "\n",
       "    .dataframe thead th {\n",
       "        text-align: right;\n",
       "    }\n",
       "</style>\n",
       "<table border=\"1\" class=\"dataframe\">\n",
       "  <thead>\n",
       "    <tr style=\"text-align: right;\">\n",
       "      <th></th>\n",
       "      <th>Date</th>\n",
       "      <th>Price</th>\n",
       "    </tr>\n",
       "  </thead>\n",
       "  <tbody>\n",
       "    <tr>\n",
       "      <th>0</th>\n",
       "      <td>2018-01-01</td>\n",
       "      <td>6345</td>\n",
       "    </tr>\n",
       "    <tr>\n",
       "      <th>1</th>\n",
       "      <td>2018-01-02</td>\n",
       "      <td>7155</td>\n",
       "    </tr>\n",
       "    <tr>\n",
       "      <th>2</th>\n",
       "      <td>2018-01-03</td>\n",
       "      <td>7879</td>\n",
       "    </tr>\n",
       "    <tr>\n",
       "      <th>3</th>\n",
       "      <td>2018-01-04</td>\n",
       "      <td>7959</td>\n",
       "    </tr>\n",
       "    <tr>\n",
       "      <th>4</th>\n",
       "      <td>2018-01-05</td>\n",
       "      <td>8199</td>\n",
       "    </tr>\n",
       "    <tr>\n",
       "      <th>5</th>\n",
       "      <td>2018-01-06</td>\n",
       "      <td>8583</td>\n",
       "    </tr>\n",
       "    <tr>\n",
       "      <th>6</th>\n",
       "      <td>2018-01-07</td>\n",
       "      <td>9267</td>\n",
       "    </tr>\n",
       "    <tr>\n",
       "      <th>7</th>\n",
       "      <td>2018-01-08</td>\n",
       "      <td>9723</td>\n",
       "    </tr>\n",
       "    <tr>\n",
       "      <th>8</th>\n",
       "      <td>2018-01-09</td>\n",
       "      <td>11216</td>\n",
       "    </tr>\n",
       "    <tr>\n",
       "      <th>9</th>\n",
       "      <td>2018-01-10</td>\n",
       "      <td>11023</td>\n",
       "    </tr>\n",
       "  </tbody>\n",
       "</table>\n",
       "</div>"
      ],
      "text/plain": [
       "         Date  Price\n",
       "0  2018-01-01   6345\n",
       "1  2018-01-02   7155\n",
       "2  2018-01-03   7879\n",
       "3  2018-01-04   7959\n",
       "4  2018-01-05   8199\n",
       "5  2018-01-06   8583\n",
       "6  2018-01-07   9267\n",
       "7  2018-01-08   9723\n",
       "8  2018-01-09  11216\n",
       "9  2018-01-10  11023"
      ]
     },
     "execution_count": 3,
     "metadata": {},
     "output_type": "execute_result"
    }
   ],
   "source": [
    "# Sökvägen till CSV-fil\n",
    "csv_fil_sökväg = \"sammanslagen_data.csv\"\n",
    "\n",
    "# Läs in CSV-filen\n",
    "crypto_data = pd.read_csv(csv_fil_sökväg)\n",
    "\n",
    "# Visa de första raderna av DataFrame\n",
    "crypto_data.head(10)\n"
   ]
  },
  {
   "cell_type": "code",
   "execution_count": 4,
   "metadata": {},
   "outputs": [
    {
     "name": "stdout",
     "output_type": "stream",
     "text": [
      "Antal rader i datasetet: 1825\n"
     ]
    }
   ],
   "source": [
    "# Skriv ut antalet rader i DataFrame\n",
    "print(\"Antal rader i datasetet:\", len(crypto_data))"
   ]
  },
  {
   "cell_type": "code",
   "execution_count": 5,
   "metadata": {},
   "outputs": [
    {
     "data": {
      "text/plain": [
       "Index(['Date', 'Price'], dtype='object')"
      ]
     },
     "execution_count": 5,
     "metadata": {},
     "output_type": "execute_result"
    }
   ],
   "source": [
    "crypto_data.columns"
   ]
  },
  {
   "cell_type": "code",
   "execution_count": 7,
   "metadata": {},
   "outputs": [
    {
     "data": {
      "image/png": "[encoded data removed]",
      "text/plain": [
       "<Figure size 640x480 with 1 Axes>"
      ]
     },
     "metadata": {},
     "output_type": "display_data"
    }
   ],
   "source": [
    "# Konvertera datumkolumnen till pandas datetime-objekt\n",
    "crypto_data['Date'] = pd.to_datetime(crypto_data['Date'])\n",
    "# Plotta datan\n",
    "plt.plot(crypto_data['Date'], crypto_data['Price'], label='Pris, SEK')\n",
    "plt.xlabel('Tid')\n",
    "plt.ylabel('Pris')\n",
    "plt.title('Ethereum pris över tid')\n",
    "plt.legend()\n",
    "plt.show()"
   ]
  },
  {
   "cell_type": "markdown",
   "metadata": {},
   "source": [
    "### Lägger till LAG1-5 för price och sparar ner som en ny CSV-fil"
   ]
  },
  {
   "cell_type": "code",
   "execution_count": 8,
   "metadata": {},
   "outputs": [],
   "source": [
    "import pandas as pd\n",
    "\n",
    "# Skapa en kopia av DataFrame\n",
    "crypto_price_LAG = crypto_data.copy()\n",
    "\n",
    "# Skapa LAG värden för Lag1 till Lag5 med shift\n",
    "for lag in range(1, 6):\n",
    "    crypto_price_LAG[f'Lag{lag}'] = crypto_price_LAG['Price'].shift(lag)\n",
    "\n",
    "# Ta bort rader med NaN-värden (eftersom skiftet inte kan beräknas för de första några raderna)\n",
    "crypto_price_LAG = crypto_price_LAG.dropna()\n",
    "\n",
    "# Spara DataFrame till en ny CSV-fil\n",
    "crypto_price_LAG.to_csv('LAG_on_crypto_price_market_subset.csv', index=False)\n"
   ]
  },
  {
   "cell_type": "code",
   "execution_count": 9,
   "metadata": {},
   "outputs": [
    {
     "data": {
      "text/plain": [
       "Index(['Date', 'Price', 'Lag1', 'Lag2', 'Lag3', 'Lag4', 'Lag5'], dtype='object')"
      ]
     },
     "execution_count": 9,
     "metadata": {},
     "output_type": "execute_result"
    }
   ],
   "source": [
    "crypto_price_LAG.columns"
   ]
  },
  {
   "cell_type": "code",
   "execution_count": 10,
   "metadata": {},
   "outputs": [
    {
     "data": {
      "text/html": [
       "<div>\n",
       "<style scoped>\n",
       "    .dataframe tbody tr th:only-of-type {\n",
       "        vertical-align: middle;\n",
       "    }\n",
       "\n",
       "    .dataframe tbody tr th {\n",
       "        vertical-align: top;\n",
       "    }\n",
       "\n",
       "    .dataframe thead th {\n",
       "        text-align: right;\n",
       "    }\n",
       "</style>\n",
       "<table border=\"1\" class=\"dataframe\">\n",
       "  <thead>\n",
       "    <tr style=\"text-align: right;\">\n",
       "      <th></th>\n",
       "      <th>Date</th>\n",
       "      <th>Price</th>\n",
       "      <th>Lag1</th>\n",
       "      <th>Lag2</th>\n",
       "      <th>Lag3</th>\n",
       "      <th>Lag4</th>\n",
       "      <th>Lag5</th>\n",
       "    </tr>\n",
       "  </thead>\n",
       "  <tbody>\n",
       "    <tr>\n",
       "      <th>5</th>\n",
       "      <td>2018-01-06</td>\n",
       "      <td>8583</td>\n",
       "      <td>8199.0</td>\n",
       "      <td>7959.0</td>\n",
       "      <td>7879.0</td>\n",
       "      <td>7155.0</td>\n",
       "      <td>6345.0</td>\n",
       "    </tr>\n",
       "    <tr>\n",
       "      <th>6</th>\n",
       "      <td>2018-01-07</td>\n",
       "      <td>9267</td>\n",
       "      <td>8583.0</td>\n",
       "      <td>8199.0</td>\n",
       "      <td>7959.0</td>\n",
       "      <td>7879.0</td>\n",
       "      <td>7155.0</td>\n",
       "    </tr>\n",
       "    <tr>\n",
       "      <th>7</th>\n",
       "      <td>2018-01-08</td>\n",
       "      <td>9723</td>\n",
       "      <td>9267.0</td>\n",
       "      <td>8583.0</td>\n",
       "      <td>8199.0</td>\n",
       "      <td>7959.0</td>\n",
       "      <td>7879.0</td>\n",
       "    </tr>\n",
       "    <tr>\n",
       "      <th>8</th>\n",
       "      <td>2018-01-09</td>\n",
       "      <td>11216</td>\n",
       "      <td>9723.0</td>\n",
       "      <td>9267.0</td>\n",
       "      <td>8583.0</td>\n",
       "      <td>8199.0</td>\n",
       "      <td>7959.0</td>\n",
       "    </tr>\n",
       "    <tr>\n",
       "      <th>9</th>\n",
       "      <td>2018-01-10</td>\n",
       "      <td>11023</td>\n",
       "      <td>11216.0</td>\n",
       "      <td>9723.0</td>\n",
       "      <td>9267.0</td>\n",
       "      <td>8583.0</td>\n",
       "      <td>8199.0</td>\n",
       "    </tr>\n",
       "  </tbody>\n",
       "</table>\n",
       "</div>"
      ],
      "text/plain": [
       "        Date  Price     Lag1    Lag2    Lag3    Lag4    Lag5\n",
       "5 2018-01-06   8583   8199.0  7959.0  7879.0  7155.0  6345.0\n",
       "6 2018-01-07   9267   8583.0  8199.0  7959.0  7879.0  7155.0\n",
       "7 2018-01-08   9723   9267.0  8583.0  8199.0  7959.0  7879.0\n",
       "8 2018-01-09  11216   9723.0  9267.0  8583.0  8199.0  7959.0\n",
       "9 2018-01-10  11023  11216.0  9723.0  9267.0  8583.0  8199.0"
      ]
     },
     "execution_count": 10,
     "metadata": {},
     "output_type": "execute_result"
    }
   ],
   "source": [
    "crypto_price_LAG.head()"
   ]
  },
  {
   "cell_type": "code",
   "execution_count": 14,
   "metadata": {},
   "outputs": [
    {
     "name": "stdout",
     "output_type": "stream",
     "text": [
      "Antal rader i datasetet: 1820\n"
     ]
    }
   ],
   "source": [
    "# Skriv ut antalet rader i DataFrame\n",
    "print(\"Antal rader i datasetet:\", len(crypto_price_LAG))"
   ]
  },
  {
   "cell_type": "markdown",
   "metadata": {},
   "source": [
    "Nedan .dtypes ger vilken datatyp varje kolumn i dataserien \"crypto_price_LAG\" har."
   ]
  },
  {
   "cell_type": "code",
   "execution_count": 15,
   "metadata": {},
   "outputs": [
    {
     "name": "stdout",
     "output_type": "stream",
     "text": [
      "Date     datetime64[ns]\n",
      "Price             int64\n",
      "Lag1            float64\n",
      "Lag2            float64\n",
      "Lag3            float64\n",
      "Lag4            float64\n",
      "Lag5            float64\n",
      "dtype: object\n"
     ]
    }
   ],
   "source": [
    "print(crypto_price_LAG.dtypes)"
   ]
  },
  {
   "cell_type": "markdown",
   "metadata": {},
   "source": [
    "Metoden .corr() i nedan kodcell,  beräknar den parvisa korrelationen mellan kolumner. Som standard beräknar den Pearsons korrelationskoefficient, vilket mäter det linjära sambandet mellan två variabler. Resultatet är en korrelationsmatris där varje cell representerar korrelationskoefficienten mellan två kolumner. En korrelationskoefficient nära 1 indikerar en stark positiv korrelation, nära -1 indikerar en stark negativ korrelation och nära 0 indikerar liten till ingen linjär korrelation."
   ]
  },
  {
   "cell_type": "code",
   "execution_count": 17,
   "metadata": {},
   "outputs": [
    {
     "name": "stderr",
     "output_type": "stream",
     "text": [
      "/tmp/ipykernel_6955/2990959623.py:1: FutureWarning: The default value of numeric_only in DataFrame.corr is deprecated. In a future version, it will default to False. Select only valid columns or specify the value of numeric_only to silence this warning.\n",
      "  crypto_price_LAG.corr()\n"
     ]
    },
    {
     "data": {
      "text/html": [
       "<div>\n",
       "<style scoped>\n",
       "    .dataframe tbody tr th:only-of-type {\n",
       "        vertical-align: middle;\n",
       "    }\n",
       "\n",
       "    .dataframe tbody tr th {\n",
       "        vertical-align: top;\n",
       "    }\n",
       "\n",
       "    .dataframe thead th {\n",
       "        text-align: right;\n",
       "    }\n",
       "</style>\n",
       "<table border=\"1\" class=\"dataframe\">\n",
       "  <thead>\n",
       "    <tr style=\"text-align: right;\">\n",
       "      <th></th>\n",
       "      <th>Price</th>\n",
       "      <th>Lag1</th>\n",
       "      <th>Lag2</th>\n",
       "      <th>Lag3</th>\n",
       "      <th>Lag4</th>\n",
       "      <th>Lag5</th>\n",
       "    </tr>\n",
       "  </thead>\n",
       "  <tbody>\n",
       "    <tr>\n",
       "      <th>Price</th>\n",
       "      <td>1.000000</td>\n",
       "      <td>0.997979</td>\n",
       "      <td>0.996210</td>\n",
       "      <td>0.994364</td>\n",
       "      <td>0.992396</td>\n",
       "      <td>0.990308</td>\n",
       "    </tr>\n",
       "    <tr>\n",
       "      <th>Lag1</th>\n",
       "      <td>0.997979</td>\n",
       "      <td>1.000000</td>\n",
       "      <td>0.997978</td>\n",
       "      <td>0.996210</td>\n",
       "      <td>0.994362</td>\n",
       "      <td>0.992389</td>\n",
       "    </tr>\n",
       "    <tr>\n",
       "      <th>Lag2</th>\n",
       "      <td>0.996210</td>\n",
       "      <td>0.997978</td>\n",
       "      <td>1.000000</td>\n",
       "      <td>0.997978</td>\n",
       "      <td>0.996208</td>\n",
       "      <td>0.994356</td>\n",
       "    </tr>\n",
       "    <tr>\n",
       "      <th>Lag3</th>\n",
       "      <td>0.994364</td>\n",
       "      <td>0.996210</td>\n",
       "      <td>0.997978</td>\n",
       "      <td>1.000000</td>\n",
       "      <td>0.997977</td>\n",
       "      <td>0.996203</td>\n",
       "    </tr>\n",
       "    <tr>\n",
       "      <th>Lag4</th>\n",
       "      <td>0.992396</td>\n",
       "      <td>0.994362</td>\n",
       "      <td>0.996208</td>\n",
       "      <td>0.997977</td>\n",
       "      <td>1.000000</td>\n",
       "      <td>0.997976</td>\n",
       "    </tr>\n",
       "    <tr>\n",
       "      <th>Lag5</th>\n",
       "      <td>0.990308</td>\n",
       "      <td>0.992389</td>\n",
       "      <td>0.994356</td>\n",
       "      <td>0.996203</td>\n",
       "      <td>0.997976</td>\n",
       "      <td>1.000000</td>\n",
       "    </tr>\n",
       "  </tbody>\n",
       "</table>\n",
       "</div>"
      ],
      "text/plain": [
       "          Price      Lag1      Lag2      Lag3      Lag4      Lag5\n",
       "Price  1.000000  0.997979  0.996210  0.994364  0.992396  0.990308\n",
       "Lag1   0.997979  1.000000  0.997978  0.996210  0.994362  0.992389\n",
       "Lag2   0.996210  0.997978  1.000000  0.997978  0.996208  0.994356\n",
       "Lag3   0.994364  0.996210  0.997978  1.000000  0.997977  0.996203\n",
       "Lag4   0.992396  0.994362  0.996208  0.997977  1.000000  0.997976\n",
       "Lag5   0.990308  0.992389  0.994356  0.996203  0.997976  1.000000"
      ]
     },
     "execution_count": 17,
     "metadata": {},
     "output_type": "execute_result"
    }
   ],
   "source": [
    "crypto_price_LAG.corr()"
   ]
  },
  {
   "cell_type": "markdown",
   "metadata": {},
   "source": [
    "Ovan resultat med korrelationsfaktorer nära 1 på samtliga parvisa korrelationer skulle innebära en stark positiv korrelation. Kan detta verkligen stämma undrar jag?"
   ]
  },
  {
   "cell_type": "markdown",
   "metadata": {},
   "source": [
    "Nedan ville jag bara se om jag kunde få en bättre överblick genom att skapa en heatmap mellan korrelationsvärderna."
   ]
  },
  {
   "cell_type": "code",
   "execution_count": 19,
   "metadata": {},
   "outputs": [
    {
     "name": "stderr",
     "output_type": "stream",
     "text": [
      "/tmp/ipykernel_6955/2425966889.py:6: FutureWarning: The default value of numeric_only in DataFrame.corr is deprecated. In a future version, it will default to False. Select only valid columns or specify the value of numeric_only to silence this warning.\n",
      "  sns.heatmap(crypto_price_LAG.corr(), annot=True, cmap='YlGn', fmt=\".2f\")\n"
     ]
    },
    {
     "data": {
      "image/png": "[encoded data removed]",
      "text/plain": [
       "<Figure size 1000x800 with 2 Axes>"
      ]
     },
     "metadata": {},
     "output_type": "display_data"
    }
   ],
   "source": [
    "import seaborn as sns\n",
    "import matplotlib.pyplot as plt\n",
    "\n",
    "# Skapa en heatmap med korrelationsvärdena\n",
    "plt.figure(figsize=(10, 8))\n",
    "sns.heatmap(crypto_price_LAG.corr(), annot=True, cmap='YlGn', fmt=\".2f\")\n",
    "plt.title('Korrelationsmatris m.a.p price')\n",
    "plt.show()\n"
   ]
  },
  {
   "cell_type": "markdown",
   "metadata": {},
   "source": [
    "### Logistisk regressionsmodell \n",
    "\n",
    "Nedan ska jag försöka anpassa en logistisk regressionsmodell för att förutsäga \"Riktning(Direction)\" med hjälp av Lag1 till Lag5. "
   ]
  },
  {
   "cell_type": "markdown",
   "metadata": {},
   "source": [
    "Nedan lägger jag först till en kolumn \"Direction\" som visar om priset har gått upp eller ner sedan tidigare dag. Sparar ner det nya datasettet i en ny csv."
   ]
  },
  {
   "cell_type": "code",
   "execution_count": 21,
   "metadata": {},
   "outputs": [],
   "source": [
    "\n",
    "# Läser in datasetet\n",
    "df_with_direction = pd.read_csv(\"LAG_on_crypto_price_market_subset.csv\")\n",
    "\n",
    "# Skapar en kolumn \"Direction\" baserat på prisförändringen jämfört med föregående dag\n",
    "df_with_direction['Direction'] = df_with_direction['Price'].diff().apply(lambda x: 'Up' if x > 0 else 'Down')\n",
    "\n",
    "# Sparar den uppdaterade datan till en ny CSV-fil\n",
    "df_with_direction.to_csv(\"LAG_on_crypto_price_market_subset_with directions.csv\", index=False)\n"
   ]
  },
  {
   "cell_type": "markdown",
   "metadata": {},
   "source": [
    "Skriver ut dom 5 första raderna i dataset. Ser nu att kolumnen \"Direction\" finns med."
   ]
  },
  {
   "cell_type": "code",
   "execution_count": 22,
   "metadata": {},
   "outputs": [
    {
     "data": {
      "text/html": [
       "<div>\n",
       "<style scoped>\n",
       "    .dataframe tbody tr th:only-of-type {\n",
       "        vertical-align: middle;\n",
       "    }\n",
       "\n",
       "    .dataframe tbody tr th {\n",
       "        vertical-align: top;\n",
       "    }\n",
       "\n",
       "    .dataframe thead th {\n",
       "        text-align: right;\n",
       "    }\n",
       "</style>\n",
       "<table border=\"1\" class=\"dataframe\">\n",
       "  <thead>\n",
       "    <tr style=\"text-align: right;\">\n",
       "      <th></th>\n",
       "      <th>Date</th>\n",
       "      <th>Price</th>\n",
       "      <th>Lag1</th>\n",
       "      <th>Lag2</th>\n",
       "      <th>Lag3</th>\n",
       "      <th>Lag4</th>\n",
       "      <th>Lag5</th>\n",
       "      <th>Direction</th>\n",
       "    </tr>\n",
       "  </thead>\n",
       "  <tbody>\n",
       "    <tr>\n",
       "      <th>0</th>\n",
       "      <td>2018-01-06</td>\n",
       "      <td>8583</td>\n",
       "      <td>8199.0</td>\n",
       "      <td>7959.0</td>\n",
       "      <td>7879.0</td>\n",
       "      <td>7155.0</td>\n",
       "      <td>6345.0</td>\n",
       "      <td>Down</td>\n",
       "    </tr>\n",
       "    <tr>\n",
       "      <th>1</th>\n",
       "      <td>2018-01-07</td>\n",
       "      <td>9267</td>\n",
       "      <td>8583.0</td>\n",
       "      <td>8199.0</td>\n",
       "      <td>7959.0</td>\n",
       "      <td>7879.0</td>\n",
       "      <td>7155.0</td>\n",
       "      <td>Up</td>\n",
       "    </tr>\n",
       "    <tr>\n",
       "      <th>2</th>\n",
       "      <td>2018-01-08</td>\n",
       "      <td>9723</td>\n",
       "      <td>9267.0</td>\n",
       "      <td>8583.0</td>\n",
       "      <td>8199.0</td>\n",
       "      <td>7959.0</td>\n",
       "      <td>7879.0</td>\n",
       "      <td>Up</td>\n",
       "    </tr>\n",
       "    <tr>\n",
       "      <th>3</th>\n",
       "      <td>2018-01-09</td>\n",
       "      <td>11216</td>\n",
       "      <td>9723.0</td>\n",
       "      <td>9267.0</td>\n",
       "      <td>8583.0</td>\n",
       "      <td>8199.0</td>\n",
       "      <td>7959.0</td>\n",
       "      <td>Up</td>\n",
       "    </tr>\n",
       "    <tr>\n",
       "      <th>4</th>\n",
       "      <td>2018-01-10</td>\n",
       "      <td>11023</td>\n",
       "      <td>11216.0</td>\n",
       "      <td>9723.0</td>\n",
       "      <td>9267.0</td>\n",
       "      <td>8583.0</td>\n",
       "      <td>8199.0</td>\n",
       "      <td>Down</td>\n",
       "    </tr>\n",
       "  </tbody>\n",
       "</table>\n",
       "</div>"
      ],
      "text/plain": [
       "         Date  Price     Lag1    Lag2    Lag3    Lag4    Lag5 Direction\n",
       "0  2018-01-06   8583   8199.0  7959.0  7879.0  7155.0  6345.0      Down\n",
       "1  2018-01-07   9267   8583.0  8199.0  7959.0  7879.0  7155.0        Up\n",
       "2  2018-01-08   9723   9267.0  8583.0  8199.0  7959.0  7879.0        Up\n",
       "3  2018-01-09  11216   9723.0  9267.0  8583.0  8199.0  7959.0        Up\n",
       "4  2018-01-10  11023  11216.0  9723.0  9267.0  8583.0  8199.0      Down"
      ]
     },
     "execution_count": 22,
     "metadata": {},
     "output_type": "execute_result"
    }
   ],
   "source": [
    "df_with_direction.head()"
   ]
  },
  {
   "cell_type": "code",
   "execution_count": 23,
   "metadata": {},
   "outputs": [
    {
     "name": "stdout",
     "output_type": "stream",
     "text": [
      "Date          object\n",
      "Price          int64\n",
      "Lag1         float64\n",
      "Lag2         float64\n",
      "Lag3         float64\n",
      "Lag4         float64\n",
      "Lag5         float64\n",
      "Direction     object\n",
      "dtype: object\n"
     ]
    }
   ],
   "source": [
    "print(df_with_direction.dtypes)"
   ]
  },
  {
   "cell_type": "markdown",
   "metadata": {},
   "source": [
    "Funderar på om \"Date\" har någon korrelation som behöver tas med i beräkningen. \"Date\" kom inte med i .corr() då den ligger som ett object. Nedan celler inom markeringen \n",
    "#===============================# provar jag att göra om \"Date\" till datatypen int64."
   ]
  },
  {
   "cell_type": "markdown",
   "metadata": {},
   "source": [
    "#========================================================#"
   ]
  },
  {
   "cell_type": "code",
   "execution_count": 43,
   "metadata": {},
   "outputs": [
    {
     "name": "stdout",
     "output_type": "stream",
     "text": [
      "            Date  Price     Lag1     Lag2     Lag3     Lag4     Lag5 Direction\n",
      "0     1515196800   8583   8199.0   7959.0   7879.0   7155.0   6345.0      Down\n",
      "1     1515283200   9267   8583.0   8199.0   7959.0   7879.0   7155.0        Up\n",
      "2     1515369600   9723   9267.0   8583.0   8199.0   7959.0   7879.0        Up\n",
      "3     1515456000  11216   9723.0   9267.0   8583.0   8199.0   7959.0        Up\n",
      "4     1515542400  11023  11216.0   9723.0   9267.0   8583.0   8199.0      Down\n",
      "...          ...    ...      ...      ...      ...      ...      ...       ...\n",
      "1815  1672099200  12867  12836.0  12863.0  12857.0  12744.0  12643.0        Up\n",
      "1816  1672185600  12698  12867.0  12836.0  12863.0  12857.0  12744.0      Down\n",
      "1817  1672272000  12438  12698.0  12867.0  12836.0  12863.0  12857.0      Down\n",
      "1818  1672358400  12567  12438.0  12698.0  12867.0  12836.0  12863.0        Up\n",
      "1819  1672444800  12503  12567.0  12438.0  12698.0  12867.0  12836.0      Down\n",
      "\n",
      "[1820 rows x 8 columns]\n"
     ]
    }
   ],
   "source": [
    "import pandas as pd\n",
    "\n",
    "# Läs in CSV-filen\n",
    "df = pd.read_csv('LAG_on_crypto_price_market_subset_with directions.csv')\n",
    "\n",
    "# Datumkolumnen heter 'Date'\n",
    "df['Date'] = pd.to_datetime(df['Date'])\n",
    "\n",
    "# Konverterar datumkolumnen till Unix-tidsstämplar som int64\n",
    "df['Date'] = (df['Date'] - pd.Timestamp(\"1970-01-01\")) // pd.Timedelta('1s')\n",
    "\n",
    "# Konvertera datumkolumnen till Unix-tidsstämplar\n",
    "#df['Date'] = df['Date'].apply(lambda x: int(x.timestamp()))\n",
    "\n",
    "# Visa DataFrame med Unix-tidsstämplar\n",
    "print(df)\n"
   ]
  },
  {
   "cell_type": "code",
   "execution_count": 44,
   "metadata": {},
   "outputs": [
    {
     "data": {
      "text/html": [
       "<div>\n",
       "<style scoped>\n",
       "    .dataframe tbody tr th:only-of-type {\n",
       "        vertical-align: middle;\n",
       "    }\n",
       "\n",
       "    .dataframe tbody tr th {\n",
       "        vertical-align: top;\n",
       "    }\n",
       "\n",
       "    .dataframe thead th {\n",
       "        text-align: right;\n",
       "    }\n",
       "</style>\n",
       "<table border=\"1\" class=\"dataframe\">\n",
       "  <thead>\n",
       "    <tr style=\"text-align: right;\">\n",
       "      <th></th>\n",
       "      <th>Date</th>\n",
       "      <th>Price</th>\n",
       "      <th>Lag1</th>\n",
       "      <th>Lag2</th>\n",
       "      <th>Lag3</th>\n",
       "      <th>Lag4</th>\n",
       "      <th>Lag5</th>\n",
       "      <th>Direction</th>\n",
       "    </tr>\n",
       "  </thead>\n",
       "  <tbody>\n",
       "    <tr>\n",
       "      <th>0</th>\n",
       "      <td>1515196800</td>\n",
       "      <td>8583</td>\n",
       "      <td>8199.0</td>\n",
       "      <td>7959.0</td>\n",
       "      <td>7879.0</td>\n",
       "      <td>7155.0</td>\n",
       "      <td>6345.0</td>\n",
       "      <td>Down</td>\n",
       "    </tr>\n",
       "    <tr>\n",
       "      <th>1</th>\n",
       "      <td>1515283200</td>\n",
       "      <td>9267</td>\n",
       "      <td>8583.0</td>\n",
       "      <td>8199.0</td>\n",
       "      <td>7959.0</td>\n",
       "      <td>7879.0</td>\n",
       "      <td>7155.0</td>\n",
       "      <td>Up</td>\n",
       "    </tr>\n",
       "    <tr>\n",
       "      <th>2</th>\n",
       "      <td>1515369600</td>\n",
       "      <td>9723</td>\n",
       "      <td>9267.0</td>\n",
       "      <td>8583.0</td>\n",
       "      <td>8199.0</td>\n",
       "      <td>7959.0</td>\n",
       "      <td>7879.0</td>\n",
       "      <td>Up</td>\n",
       "    </tr>\n",
       "    <tr>\n",
       "      <th>3</th>\n",
       "      <td>1515456000</td>\n",
       "      <td>11216</td>\n",
       "      <td>9723.0</td>\n",
       "      <td>9267.0</td>\n",
       "      <td>8583.0</td>\n",
       "      <td>8199.0</td>\n",
       "      <td>7959.0</td>\n",
       "      <td>Up</td>\n",
       "    </tr>\n",
       "    <tr>\n",
       "      <th>4</th>\n",
       "      <td>1515542400</td>\n",
       "      <td>11023</td>\n",
       "      <td>11216.0</td>\n",
       "      <td>9723.0</td>\n",
       "      <td>9267.0</td>\n",
       "      <td>8583.0</td>\n",
       "      <td>8199.0</td>\n",
       "      <td>Down</td>\n",
       "    </tr>\n",
       "    <tr>\n",
       "      <th>...</th>\n",
       "      <td>...</td>\n",
       "      <td>...</td>\n",
       "      <td>...</td>\n",
       "      <td>...</td>\n",
       "      <td>...</td>\n",
       "      <td>...</td>\n",
       "      <td>...</td>\n",
       "      <td>...</td>\n",
       "    </tr>\n",
       "    <tr>\n",
       "      <th>1815</th>\n",
       "      <td>1672099200</td>\n",
       "      <td>12867</td>\n",
       "      <td>12836.0</td>\n",
       "      <td>12863.0</td>\n",
       "      <td>12857.0</td>\n",
       "      <td>12744.0</td>\n",
       "      <td>12643.0</td>\n",
       "      <td>Up</td>\n",
       "    </tr>\n",
       "    <tr>\n",
       "      <th>1816</th>\n",
       "      <td>1672185600</td>\n",
       "      <td>12698</td>\n",
       "      <td>12867.0</td>\n",
       "      <td>12836.0</td>\n",
       "      <td>12863.0</td>\n",
       "      <td>12857.0</td>\n",
       "      <td>12744.0</td>\n",
       "      <td>Down</td>\n",
       "    </tr>\n",
       "    <tr>\n",
       "      <th>1817</th>\n",
       "      <td>1672272000</td>\n",
       "      <td>12438</td>\n",
       "      <td>12698.0</td>\n",
       "      <td>12867.0</td>\n",
       "      <td>12836.0</td>\n",
       "      <td>12863.0</td>\n",
       "      <td>12857.0</td>\n",
       "      <td>Down</td>\n",
       "    </tr>\n",
       "    <tr>\n",
       "      <th>1818</th>\n",
       "      <td>1672358400</td>\n",
       "      <td>12567</td>\n",
       "      <td>12438.0</td>\n",
       "      <td>12698.0</td>\n",
       "      <td>12867.0</td>\n",
       "      <td>12836.0</td>\n",
       "      <td>12863.0</td>\n",
       "      <td>Up</td>\n",
       "    </tr>\n",
       "    <tr>\n",
       "      <th>1819</th>\n",
       "      <td>1672444800</td>\n",
       "      <td>12503</td>\n",
       "      <td>12567.0</td>\n",
       "      <td>12438.0</td>\n",
       "      <td>12698.0</td>\n",
       "      <td>12867.0</td>\n",
       "      <td>12836.0</td>\n",
       "      <td>Down</td>\n",
       "    </tr>\n",
       "  </tbody>\n",
       "</table>\n",
       "<p>1820 rows × 8 columns</p>\n",
       "</div>"
      ],
      "text/plain": [
       "            Date  Price     Lag1     Lag2     Lag3     Lag4     Lag5 Direction\n",
       "0     1515196800   8583   8199.0   7959.0   7879.0   7155.0   6345.0      Down\n",
       "1     1515283200   9267   8583.0   8199.0   7959.0   7879.0   7155.0        Up\n",
       "2     1515369600   9723   9267.0   8583.0   8199.0   7959.0   7879.0        Up\n",
       "3     1515456000  11216   9723.0   9267.0   8583.0   8199.0   7959.0        Up\n",
       "4     1515542400  11023  11216.0   9723.0   9267.0   8583.0   8199.0      Down\n",
       "...          ...    ...      ...      ...      ...      ...      ...       ...\n",
       "1815  1672099200  12867  12836.0  12863.0  12857.0  12744.0  12643.0        Up\n",
       "1816  1672185600  12698  12867.0  12836.0  12863.0  12857.0  12744.0      Down\n",
       "1817  1672272000  12438  12698.0  12867.0  12836.0  12863.0  12857.0      Down\n",
       "1818  1672358400  12567  12438.0  12698.0  12867.0  12836.0  12863.0        Up\n",
       "1819  1672444800  12503  12567.0  12438.0  12698.0  12867.0  12836.0      Down\n",
       "\n",
       "[1820 rows x 8 columns]"
      ]
     },
     "execution_count": 44,
     "metadata": {},
     "output_type": "execute_result"
    }
   ],
   "source": [
    "df"
   ]
  },
  {
   "cell_type": "markdown",
   "metadata": {},
   "source": [
    "Nedan kan ses att \"Date\" nu är av datatypen int64."
   ]
  },
  {
   "cell_type": "code",
   "execution_count": 45,
   "metadata": {},
   "outputs": [
    {
     "name": "stdout",
     "output_type": "stream",
     "text": [
      "Date           int64\n",
      "Price          int64\n",
      "Lag1         float64\n",
      "Lag2         float64\n",
      "Lag3         float64\n",
      "Lag4         float64\n",
      "Lag5         float64\n",
      "Direction     object\n",
      "dtype: object\n"
     ]
    }
   ],
   "source": [
    "print(df.dtypes)"
   ]
  },
  {
   "cell_type": "markdown",
   "metadata": {},
   "source": [
    "När jag nu tar .corr() på datasettet \"df\" kommer \"Date\" med."
   ]
  },
  {
   "cell_type": "code",
   "execution_count": 46,
   "metadata": {},
   "outputs": [
    {
     "name": "stderr",
     "output_type": "stream",
     "text": [
      "/tmp/ipykernel_6955/1134722465.py:1: FutureWarning: The default value of numeric_only in DataFrame.corr is deprecated. In a future version, it will default to False. Select only valid columns or specify the value of numeric_only to silence this warning.\n",
      "  df.corr()\n"
     ]
    },
    {
     "data": {
      "text/html": [
       "<div>\n",
       "<style scoped>\n",
       "    .dataframe tbody tr th:only-of-type {\n",
       "        vertical-align: middle;\n",
       "    }\n",
       "\n",
       "    .dataframe tbody tr th {\n",
       "        vertical-align: top;\n",
       "    }\n",
       "\n",
       "    .dataframe thead th {\n",
       "        text-align: right;\n",
       "    }\n",
       "</style>\n",
       "<table border=\"1\" class=\"dataframe\">\n",
       "  <thead>\n",
       "    <tr style=\"text-align: right;\">\n",
       "      <th></th>\n",
       "      <th>Date</th>\n",
       "      <th>Price</th>\n",
       "      <th>Lag1</th>\n",
       "      <th>Lag2</th>\n",
       "      <th>Lag3</th>\n",
       "      <th>Lag4</th>\n",
       "      <th>Lag5</th>\n",
       "    </tr>\n",
       "  </thead>\n",
       "  <tbody>\n",
       "    <tr>\n",
       "      <th>Date</th>\n",
       "      <td>1.000000</td>\n",
       "      <td>0.695731</td>\n",
       "      <td>0.695750</td>\n",
       "      <td>0.695783</td>\n",
       "      <td>0.695832</td>\n",
       "      <td>0.695916</td>\n",
       "      <td>0.696048</td>\n",
       "    </tr>\n",
       "    <tr>\n",
       "      <th>Price</th>\n",
       "      <td>0.695731</td>\n",
       "      <td>1.000000</td>\n",
       "      <td>0.997979</td>\n",
       "      <td>0.996210</td>\n",
       "      <td>0.994364</td>\n",
       "      <td>0.992396</td>\n",
       "      <td>0.990308</td>\n",
       "    </tr>\n",
       "    <tr>\n",
       "      <th>Lag1</th>\n",
       "      <td>0.695750</td>\n",
       "      <td>0.997979</td>\n",
       "      <td>1.000000</td>\n",
       "      <td>0.997978</td>\n",
       "      <td>0.996210</td>\n",
       "      <td>0.994362</td>\n",
       "      <td>0.992389</td>\n",
       "    </tr>\n",
       "    <tr>\n",
       "      <th>Lag2</th>\n",
       "      <td>0.695783</td>\n",
       "      <td>0.996210</td>\n",
       "      <td>0.997978</td>\n",
       "      <td>1.000000</td>\n",
       "      <td>0.997978</td>\n",
       "      <td>0.996208</td>\n",
       "      <td>0.994356</td>\n",
       "    </tr>\n",
       "    <tr>\n",
       "      <th>Lag3</th>\n",
       "      <td>0.695832</td>\n",
       "      <td>0.994364</td>\n",
       "      <td>0.996210</td>\n",
       "      <td>0.997978</td>\n",
       "      <td>1.000000</td>\n",
       "      <td>0.997977</td>\n",
       "      <td>0.996203</td>\n",
       "    </tr>\n",
       "    <tr>\n",
       "      <th>Lag4</th>\n",
       "      <td>0.695916</td>\n",
       "      <td>0.992396</td>\n",
       "      <td>0.994362</td>\n",
       "      <td>0.996208</td>\n",
       "      <td>0.997977</td>\n",
       "      <td>1.000000</td>\n",
       "      <td>0.997976</td>\n",
       "    </tr>\n",
       "    <tr>\n",
       "      <th>Lag5</th>\n",
       "      <td>0.696048</td>\n",
       "      <td>0.990308</td>\n",
       "      <td>0.992389</td>\n",
       "      <td>0.994356</td>\n",
       "      <td>0.996203</td>\n",
       "      <td>0.997976</td>\n",
       "      <td>1.000000</td>\n",
       "    </tr>\n",
       "  </tbody>\n",
       "</table>\n",
       "</div>"
      ],
      "text/plain": [
       "           Date     Price      Lag1      Lag2      Lag3      Lag4      Lag5\n",
       "Date   1.000000  0.695731  0.695750  0.695783  0.695832  0.695916  0.696048\n",
       "Price  0.695731  1.000000  0.997979  0.996210  0.994364  0.992396  0.990308\n",
       "Lag1   0.695750  0.997979  1.000000  0.997978  0.996210  0.994362  0.992389\n",
       "Lag2   0.695783  0.996210  0.997978  1.000000  0.997978  0.996208  0.994356\n",
       "Lag3   0.695832  0.994364  0.996210  0.997978  1.000000  0.997977  0.996203\n",
       "Lag4   0.695916  0.992396  0.994362  0.996208  0.997977  1.000000  0.997976\n",
       "Lag5   0.696048  0.990308  0.992389  0.994356  0.996203  0.997976  1.000000"
      ]
     },
     "execution_count": 46,
     "metadata": {},
     "output_type": "execute_result"
    }
   ],
   "source": [
    "df.corr()"
   ]
  },
  {
   "cell_type": "markdown",
   "metadata": {},
   "source": [
    "Ovan kan ses att \"Date\" över Lag1 -Lag5 inte har så stor skillnad dessa emellan i värde på korrelation. Dom ligger mellan 0.695750 till 0.696048. Med tanke på att jag är lite tveksam till den höga korrelationen på nära 1 på Lag1 -Lag5 mot Price så kanske det här är mera rimligt. Svårt att veta."
   ]
  },
  {
   "cell_type": "markdown",
   "metadata": {},
   "source": [
    "#==========================================================#"
   ]
  },
  {
   "cell_type": "markdown",
   "metadata": {},
   "source": [
    "Går nu tillbaka och fortsätter utan \"Date\" med i korrelationen. Se nedan på \"df_with_direction.corr()\""
   ]
  },
  {
   "cell_type": "code",
   "execution_count": 47,
   "metadata": {},
   "outputs": [
    {
     "name": "stderr",
     "output_type": "stream",
     "text": [
      "/tmp/ipykernel_6955/2989462644.py:1: FutureWarning: The default value of numeric_only in DataFrame.corr is deprecated. In a future version, it will default to False. Select only valid columns or specify the value of numeric_only to silence this warning.\n",
      "  df_with_direction.corr()\n"
     ]
    },
    {
     "data": {
      "text/html": [
       "<div>\n",
       "<style scoped>\n",
       "    .dataframe tbody tr th:only-of-type {\n",
       "        vertical-align: middle;\n",
       "    }\n",
       "\n",
       "    .dataframe tbody tr th {\n",
       "        vertical-align: top;\n",
       "    }\n",
       "\n",
       "    .dataframe thead th {\n",
       "        text-align: right;\n",
       "    }\n",
       "</style>\n",
       "<table border=\"1\" class=\"dataframe\">\n",
       "  <thead>\n",
       "    <tr style=\"text-align: right;\">\n",
       "      <th></th>\n",
       "      <th>Price</th>\n",
       "      <th>Lag1</th>\n",
       "      <th>Lag2</th>\n",
       "      <th>Lag3</th>\n",
       "      <th>Lag4</th>\n",
       "      <th>Lag5</th>\n",
       "    </tr>\n",
       "  </thead>\n",
       "  <tbody>\n",
       "    <tr>\n",
       "      <th>Price</th>\n",
       "      <td>1.000000</td>\n",
       "      <td>0.997979</td>\n",
       "      <td>0.996210</td>\n",
       "      <td>0.994364</td>\n",
       "      <td>0.992396</td>\n",
       "      <td>0.990308</td>\n",
       "    </tr>\n",
       "    <tr>\n",
       "      <th>Lag1</th>\n",
       "      <td>0.997979</td>\n",
       "      <td>1.000000</td>\n",
       "      <td>0.997978</td>\n",
       "      <td>0.996210</td>\n",
       "      <td>0.994362</td>\n",
       "      <td>0.992389</td>\n",
       "    </tr>\n",
       "    <tr>\n",
       "      <th>Lag2</th>\n",
       "      <td>0.996210</td>\n",
       "      <td>0.997978</td>\n",
       "      <td>1.000000</td>\n",
       "      <td>0.997978</td>\n",
       "      <td>0.996208</td>\n",
       "      <td>0.994356</td>\n",
       "    </tr>\n",
       "    <tr>\n",
       "      <th>Lag3</th>\n",
       "      <td>0.994364</td>\n",
       "      <td>0.996210</td>\n",
       "      <td>0.997978</td>\n",
       "      <td>1.000000</td>\n",
       "      <td>0.997977</td>\n",
       "      <td>0.996203</td>\n",
       "    </tr>\n",
       "    <tr>\n",
       "      <th>Lag4</th>\n",
       "      <td>0.992396</td>\n",
       "      <td>0.994362</td>\n",
       "      <td>0.996208</td>\n",
       "      <td>0.997977</td>\n",
       "      <td>1.000000</td>\n",
       "      <td>0.997976</td>\n",
       "    </tr>\n",
       "    <tr>\n",
       "      <th>Lag5</th>\n",
       "      <td>0.990308</td>\n",
       "      <td>0.992389</td>\n",
       "      <td>0.994356</td>\n",
       "      <td>0.996203</td>\n",
       "      <td>0.997976</td>\n",
       "      <td>1.000000</td>\n",
       "    </tr>\n",
       "  </tbody>\n",
       "</table>\n",
       "</div>"
      ],
      "text/plain": [
       "          Price      Lag1      Lag2      Lag3      Lag4      Lag5\n",
       "Price  1.000000  0.997979  0.996210  0.994364  0.992396  0.990308\n",
       "Lag1   0.997979  1.000000  0.997978  0.996210  0.994362  0.992389\n",
       "Lag2   0.996210  0.997978  1.000000  0.997978  0.996208  0.994356\n",
       "Lag3   0.994364  0.996210  0.997978  1.000000  0.997977  0.996203\n",
       "Lag4   0.992396  0.994362  0.996208  0.997977  1.000000  0.997976\n",
       "Lag5   0.990308  0.992389  0.994356  0.996203  0.997976  1.000000"
      ]
     },
     "execution_count": 47,
     "metadata": {},
     "output_type": "execute_result"
    }
   ],
   "source": [
    "df_with_direction.corr()"
   ]
  },
  {
   "cell_type": "markdown",
   "metadata": {},
   "source": [
    "Funktionen sm.GLM() passar in i generaliserade linjära modeller, en klass av modeller som inkluderar logistisk regression. Alternativt anpassar funktionen sm.Logit() en logistisk regressionsmodell direkt. Syntaxen för sm.GLM() är liknande den för sm.OLS(), förutom att vi måste skicka med argumentet family=sm.families.Binomial() för att tala om för statsmodels att köra en logistisk regression istället för någon annan typ av generaliserad linjär modell."
   ]
  },
  {
   "cell_type": "markdown",
   "metadata": {},
   "source": [
    "I nästa steg kommer vi att anpassa en logistisk regressionsmodell för att förutsäga riktningen(Direction\") genom att använda Lag1 till Lag5. Jag tar därför bort \"Date\" och \"Direction\" med .drop. "
   ]
  },
  {
   "cell_type": "code",
   "execution_count": 65,
   "metadata": {},
   "outputs": [
    {
     "name": "stdout",
     "output_type": "stream",
     "text": [
      "Index(['Price', 'Lag1', 'Lag2', 'Lag3', 'Lag4', 'Lag5'], dtype='object')\n"
     ]
    },
    {
     "name": "stderr",
     "output_type": "stream",
     "text": [
      "/mnt/c/Users/aras/python_iths/iths_2023_sep_dec/aras_venv/lib/python3.11/site-packages/statsmodels/genmod/families/links.py:198: RuntimeWarning: overflow encountered in exp\n",
      "  t = np.exp(-z)\n",
      "/mnt/c/Users/aras/python_iths/iths_2023_sep_dec/aras_venv/lib/python3.11/site-packages/statsmodels/genmod/families/family.py:1056: RuntimeWarning: divide by zero encountered in log\n",
      "  special.gammaln(n - y + 1) + y * np.log(mu / (1 - mu + 1e-20)) +\n",
      "/mnt/c/Users/aras/python_iths/iths_2023_sep_dec/aras_venv/lib/python3.11/site-packages/statsmodels/genmod/families/family.py:1056: RuntimeWarning: invalid value encountered in multiply\n",
      "  special.gammaln(n - y + 1) + y * np.log(mu / (1 - mu + 1e-20)) +\n"
     ]
    },
    {
     "data": {
      "text/html": [
       "<div>\n",
       "<style scoped>\n",
       "    .dataframe tbody tr th:only-of-type {\n",
       "        vertical-align: middle;\n",
       "    }\n",
       "\n",
       "    .dataframe tbody tr th {\n",
       "        vertical-align: top;\n",
       "    }\n",
       "\n",
       "    .dataframe thead th {\n",
       "        text-align: right;\n",
       "    }\n",
       "</style>\n",
       "<table border=\"1\" class=\"dataframe\">\n",
       "  <thead>\n",
       "    <tr style=\"text-align: right;\">\n",
       "      <th></th>\n",
       "      <th>coef</th>\n",
       "      <th>std err</th>\n",
       "      <th>z</th>\n",
       "      <th>P&gt;|z|</th>\n",
       "    </tr>\n",
       "  </thead>\n",
       "  <tbody>\n",
       "    <tr>\n",
       "      <th>intercept</th>\n",
       "      <td>0.011800</td>\n",
       "      <td>0.199</td>\n",
       "      <td>0.059</td>\n",
       "      <td>0.953</td>\n",
       "    </tr>\n",
       "    <tr>\n",
       "      <th>Price</th>\n",
       "      <td>0.175900</td>\n",
       "      <td>0.016</td>\n",
       "      <td>11.027</td>\n",
       "      <td>0.000</td>\n",
       "    </tr>\n",
       "    <tr>\n",
       "      <th>Lag1</th>\n",
       "      <td>-0.176100</td>\n",
       "      <td>0.016</td>\n",
       "      <td>-10.994</td>\n",
       "      <td>0.000</td>\n",
       "    </tr>\n",
       "    <tr>\n",
       "      <th>Lag2</th>\n",
       "      <td>-0.000400</td>\n",
       "      <td>0.002</td>\n",
       "      <td>-0.237</td>\n",
       "      <td>0.813</td>\n",
       "    </tr>\n",
       "    <tr>\n",
       "      <th>Lag3</th>\n",
       "      <td>-0.000400</td>\n",
       "      <td>0.002</td>\n",
       "      <td>-0.244</td>\n",
       "      <td>0.807</td>\n",
       "    </tr>\n",
       "    <tr>\n",
       "      <th>Lag4</th>\n",
       "      <td>0.000052</td>\n",
       "      <td>0.002</td>\n",
       "      <td>0.033</td>\n",
       "      <td>0.974</td>\n",
       "    </tr>\n",
       "    <tr>\n",
       "      <th>Lag5</th>\n",
       "      <td>0.000800</td>\n",
       "      <td>0.001</td>\n",
       "      <td>0.823</td>\n",
       "      <td>0.411</td>\n",
       "    </tr>\n",
       "  </tbody>\n",
       "</table>\n",
       "</div>"
      ],
      "text/plain": [
       "               coef  std err       z  P>|z|\n",
       "intercept  0.011800    0.199   0.059  0.953\n",
       "Price      0.175900    0.016  11.027  0.000\n",
       "Lag1      -0.176100    0.016 -10.994  0.000\n",
       "Lag2      -0.000400    0.002  -0.237  0.813\n",
       "Lag3      -0.000400    0.002  -0.244  0.807\n",
       "Lag4       0.000052    0.002   0.033  0.974\n",
       "Lag5       0.000800    0.001   0.823  0.411"
      ]
     },
     "execution_count": 65,
     "metadata": {},
     "output_type": "execute_result"
    }
   ],
   "source": [
    "allvars = df_with_direction.columns.drop(['Date', \"Direction\"])\n",
    "print(allvars)\n",
    "design = MS(allvars)\n",
    "X = design.fit_transform(df_with_direction)\n",
    "y = df_with_direction.Direction == 'Up'\n",
    "glm = sm.GLM(y,\n",
    "X,\n",
    "family=sm.families.Binomial())\n",
    "results = glm.fit()\n",
    "summarize(results)"
   ]
  },
  {
   "cell_type": "markdown",
   "metadata": {},
   "source": [
    "Se ovan. Det minsta p-värdet kan ses i Price samt Lag1. Coefficienten är positiv (0.175900) för Price och negativ(-0.176100) för Lag1. Lag1 indikerar att om priset för Ethereum var positivt igår är det troligt att det blir negativt idag. Likväl ger ett värde på 0.175900 för \"Price\" att med en ökning av priset för Ethereum idag ökar sannolikheten för att priset kommer att vara positivt imorgon. \n",
    "\n",
    "Å ena sidan indikerar en positiv koefficient för \"Price\" att en ökning av priset för Ethereum idag förväntas öka sannolikheten för att priset kommer att vara positivt imorgon. Å andra sidan indikerar en negativ koefficient för \"Lag1\" att om priset för Ethereum var positivt igår, är det mindre troligt att priset kommer att vara positivt idag. Motsägelse!"
   ]
  },
  {
   "cell_type": "code",
   "execution_count": 66,
   "metadata": {},
   "outputs": [
    {
     "data": {
      "text/plain": [
       "intercept    0.011838\n",
       "Price        0.175929\n",
       "Lag1        -0.176060\n",
       "Lag2        -0.000375\n",
       "Lag3        -0.000383\n",
       "Lag4         0.000052\n",
       "Lag5         0.000825\n",
       "dtype: float64"
      ]
     },
     "execution_count": 66,
     "metadata": {},
     "output_type": "execute_result"
    }
   ],
   "source": [
    "results.params"
   ]
  },
  {
   "cell_type": "code",
   "execution_count": 67,
   "metadata": {},
   "outputs": [
    {
     "data": {
      "text/plain": [
       "intercept    9.526022e-01\n",
       "Price        2.838449e-28\n",
       "Lag1         4.066429e-28\n",
       "Lag2         8.125982e-01\n",
       "Lag3         8.072500e-01\n",
       "Lag4         9.735433e-01\n",
       "Lag5         4.107430e-01\n",
       "dtype: float64"
      ]
     },
     "execution_count": 67,
     "metadata": {},
     "output_type": "execute_result"
    }
   ],
   "source": [
    "results.pvalues"
   ]
  },
  {
   "cell_type": "code",
   "execution_count": 68,
   "metadata": {},
   "outputs": [
    {
     "name": "stdout",
     "output_type": "stream",
     "text": [
      "intercept    0.9526\n",
      "Price        0.0000\n",
      "Lag1         0.0000\n",
      "Lag2         0.8126\n",
      "Lag3         0.8072\n",
      "Lag4         0.9735\n",
      "Lag5         0.4107\n",
      "dtype: object\n"
     ]
    }
   ],
   "source": [
    "# Hämta p-värdena\n",
    "p_values = results.pvalues\n",
    "\n",
    "# Formatera p-värdena med 4 decimaler\n",
    "formatted_p_values = p_values.apply(lambda x: \"{:.4f}\".format(x))\n",
    "\n",
    "# Visa de formaterade p-värdena\n",
    "print(formatted_p_values)\n"
   ]
  },
  {
   "cell_type": "markdown",
   "metadata": {},
   "source": [
    "Metoden predict(), nedan kan användas för att förutsäga sannolikheten att marknaden kommer att stiga, givet värden på prediktorerna. Denna metod returnerar förutsägelser på sannolikhetsskalan. Om ingen datamängd tillhandahålls till predict()-funktionen, beräknas sannolikheterna för träningsdatan som användes för att passa den logistiska regressionsmodellen. Liksom med linjär regression kan man skicka med ett valfritt exog-argument som är förenligt med en designmatris om så önskas. Skriver ut de första tio sannolikheterna."
   ]
  },
  {
   "cell_type": "code",
   "execution_count": 69,
   "metadata": {},
   "outputs": [
    {
     "name": "stderr",
     "output_type": "stream",
     "text": [
      "/mnt/c/Users/aras/python_iths/iths_2023_sep_dec/aras_venv/lib/python3.11/site-packages/statsmodels/genmod/families/links.py:198: RuntimeWarning: overflow encountered in exp\n",
      "  t = np.exp(-z)\n"
     ]
    },
    {
     "data": {
      "text/plain": [
       "array([1.00000000e+000, 1.00000000e+000, 1.00000000e+000, 1.00000000e+000,\n",
       "       4.25386626e-016, 1.27925297e-109, 1.00000000e+000, 1.00000000e+000,\n",
       "       2.36103701e-024, 5.74679199e-053])"
      ]
     },
     "execution_count": 69,
     "metadata": {},
     "output_type": "execute_result"
    }
   ],
   "source": [
    "probs = results.predict()\n",
    "probs[:10]"
   ]
  },
  {
   "cell_type": "markdown",
   "metadata": {},
   "source": [
    "För att göra en förutsägelse om marknaden kommer att gå upp eller ner på en specifik dag måste dessa förutsagda omvandla till sannolikheter till klassetiketter, \"Up\" eller \"Down\". De följande två kommandona skapar en vektor av klassförutsägelser baserat på om den förutsagda sannolikheten för en marknadsökning är större eller mindre än 0.5."
   ]
  },
  {
   "cell_type": "code",
   "execution_count": 73,
   "metadata": {},
   "outputs": [],
   "source": [
    "labels = np.array(['Down']*1820)\n",
    "labels[probs >0.5] = \"Up\""
   ]
  },
  {
   "cell_type": "markdown",
   "metadata": {},
   "source": [
    "Funktionen confusion_table() från paketet ISLP summerar dessa tabellförutsägelser och visar hur många observationer som klassificerades korrekt eller inkorrekt. Funktionen confusion_table() tar som första argument de förutsagda etiketterna och som andra argument de sanna etiketterna."
   ]
  },
  {
   "cell_type": "code",
   "execution_count": 79,
   "metadata": {},
   "outputs": [
    {
     "data": {
      "text/html": [
       "<div>\n",
       "<style scoped>\n",
       "    .dataframe tbody tr th:only-of-type {\n",
       "        vertical-align: middle;\n",
       "    }\n",
       "\n",
       "    .dataframe tbody tr th {\n",
       "        vertical-align: top;\n",
       "    }\n",
       "\n",
       "    .dataframe thead th {\n",
       "        text-align: right;\n",
       "    }\n",
       "</style>\n",
       "<table border=\"1\" class=\"dataframe\">\n",
       "  <thead>\n",
       "    <tr style=\"text-align: right;\">\n",
       "      <th>Truth</th>\n",
       "      <th>Down</th>\n",
       "      <th>Up</th>\n",
       "    </tr>\n",
       "    <tr>\n",
       "      <th>Predicted</th>\n",
       "      <th></th>\n",
       "      <th></th>\n",
       "    </tr>\n",
       "  </thead>\n",
       "  <tbody>\n",
       "    <tr>\n",
       "      <th>Down</th>\n",
       "      <td>888</td>\n",
       "      <td>1</td>\n",
       "    </tr>\n",
       "    <tr>\n",
       "      <th>Up</th>\n",
       "      <td>5</td>\n",
       "      <td>926</td>\n",
       "    </tr>\n",
       "  </tbody>\n",
       "</table>\n",
       "</div>"
      ],
      "text/plain": [
       "Truth      Down   Up\n",
       "Predicted           \n",
       "Down        888    1\n",
       "Up            5  926"
      ]
     },
     "execution_count": 79,
     "metadata": {},
     "output_type": "execute_result"
    }
   ],
   "source": [
    "confusion_table(labels, df_with_direction.Direction)"
   ]
  },
  {
   "cell_type": "markdown",
   "metadata": {},
   "source": [
    "På ovan matrix. Titta på diagonalvärderna. The diagonal elements of the confusion matrix indicate correct predictions. 888 för korrekta down samt 926 för korrekta up. Summa 888+926=1814"
   ]
  },
  {
   "cell_type": "code",
   "execution_count": 80,
   "metadata": {},
   "outputs": [
    {
     "data": {
      "text/plain": [
       "(0.9967032967032967, 0.9967032967032967)"
      ]
     },
     "execution_count": 80,
     "metadata": {},
     "output_type": "execute_result"
    }
   ],
   "source": [
    "(888+926)/1820, np.mean(labels == df_with_direction.Direction)"
   ]
  },
  {
   "cell_type": "code",
   "execution_count": 81,
   "metadata": {},
   "outputs": [
    {
     "name": "stdout",
     "output_type": "stream",
     "text": [
      "            Date  Price     Lag1     Lag2     Lag3     Lag4     Lag5 Direction\n",
      "0     2018-01-06   8583   8199.0   7959.0   7879.0   7155.0   6345.0      Down\n",
      "1     2018-01-07   9267   8583.0   8199.0   7959.0   7879.0   7155.0        Up\n",
      "2     2018-01-08   9723   9267.0   8583.0   8199.0   7959.0   7879.0        Up\n",
      "3     2018-01-09  11216   9723.0   9267.0   8583.0   8199.0   7959.0        Up\n",
      "4     2018-01-10  11023  11216.0   9723.0   9267.0   8583.0   8199.0      Down\n",
      "...          ...    ...      ...      ...      ...      ...      ...       ...\n",
      "1815  2022-12-27  12867  12836.0  12863.0  12857.0  12744.0  12643.0        Up\n",
      "1816  2022-12-28  12698  12867.0  12836.0  12863.0  12857.0  12744.0      Down\n",
      "1817  2022-12-29  12438  12698.0  12867.0  12836.0  12863.0  12857.0      Down\n",
      "1818  2022-12-30  12567  12438.0  12698.0  12867.0  12836.0  12863.0        Up\n",
      "1819  2022-12-31  12503  12567.0  12438.0  12698.0  12867.0  12836.0      Down\n",
      "\n",
      "[1820 rows x 8 columns]\n"
     ]
    }
   ],
   "source": [
    "print(df_with_direction)"
   ]
  },
  {
   "cell_type": "markdown",
   "metadata": {},
   "source": [
    "The object train is a vector of 1820 elements, corresponding to the\n",
    "observations in our data set. The elements of the vector that correspond\n",
    "to observations that occurred before 2022-11-01 are set to True, whereas those\n",
    "that correspond to observations after 2022-11-01 are set to False. Hence train is a\n",
    "boolean array, since its elements are True and False. Boolean arrays can be\n",
    "used to obtain a subset of the rows or columns of a data frame using the loc method."
   ]
  },
  {
   "cell_type": "code",
   "execution_count": 36,
   "metadata": {},
   "outputs": [
    {
     "data": {
      "text/plain": [
       "(61, 8)"
      ]
     },
     "execution_count": 36,
     "metadata": {},
     "output_type": "execute_result"
    }
   ],
   "source": [
    "train = (df_with_direction.Date < \"2022-11-01\")\n",
    "df_train = df_with_direction.loc[train]\n",
    "df_test = df_with_direction.loc[~train]\n",
    "df_test.shape"
   ]
  },
  {
   "cell_type": "code",
   "execution_count": 37,
   "metadata": {},
   "outputs": [
    {
     "name": "stdout",
     "output_type": "stream",
     "text": [
      "0        True\n",
      "1        True\n",
      "2        True\n",
      "3        True\n",
      "4        True\n",
      "        ...  \n",
      "1815    False\n",
      "1816    False\n",
      "1817    False\n",
      "1818    False\n",
      "1819    False\n",
      "Name: Date, Length: 1820, dtype: bool\n"
     ]
    }
   ],
   "source": [
    "print(train)"
   ]
  },
  {
   "cell_type": "code",
   "execution_count": 38,
   "metadata": {},
   "outputs": [
    {
     "name": "stdout",
     "output_type": "stream",
     "text": [
      "            Date  Price     Lag1     Lag2     Lag3     Lag4     Lag5 Direction\n",
      "0     2018-01-06   8583   8199.0   7959.0   7879.0   7155.0   6345.0      Down\n",
      "1     2018-01-07   9267   8583.0   8199.0   7959.0   7879.0   7155.0        Up\n",
      "2     2018-01-08   9723   9267.0   8583.0   8199.0   7959.0   7879.0        Up\n",
      "3     2018-01-09  11216   9723.0   9267.0   8583.0   8199.0   7959.0        Up\n",
      "4     2018-01-10  11023  11216.0   9723.0   9267.0   8583.0   8199.0      Down\n",
      "...          ...    ...      ...      ...      ...      ...      ...       ...\n",
      "1754  2022-10-27  17013  16043.0  14972.0  15285.0  14699.0  14534.0        Up\n",
      "1755  2022-10-28  16599  17013.0  16043.0  14972.0  15285.0  14699.0      Down\n",
      "1756  2022-10-29  17024  16599.0  17013.0  16043.0  14972.0  15285.0        Up\n",
      "1757  2022-10-30  17729  17024.0  16599.0  17013.0  16043.0  14972.0        Up\n",
      "1758  2022-10-31  17459  17729.0  17024.0  16599.0  17013.0  16043.0      Down\n",
      "\n",
      "[1759 rows x 8 columns]\n"
     ]
    }
   ],
   "source": [
    "print(df_train)"
   ]
  },
  {
   "cell_type": "code",
   "execution_count": 39,
   "metadata": {},
   "outputs": [
    {
     "name": "stdout",
     "output_type": "stream",
     "text": [
      "            Date  Price     Lag1     Lag2     Lag3     Lag4     Lag5 Direction\n",
      "1759  2022-11-01  17357  17459.0  17729.0  17024.0  16599.0  17013.0      Down\n",
      "1760  2022-11-02  17417  17357.0  17459.0  17729.0  17024.0  16599.0        Up\n",
      "1761  2022-11-03  16907  17417.0  17357.0  17459.0  17729.0  17024.0      Down\n",
      "1762  2022-11-04  17138  16907.0  17417.0  17357.0  17459.0  17729.0        Up\n",
      "1763  2022-11-05  18099  17138.0  16907.0  17417.0  17357.0  17459.0        Up\n",
      "...          ...    ...      ...      ...      ...      ...      ...       ...\n",
      "1815  2022-12-27  12867  12836.0  12863.0  12857.0  12744.0  12643.0        Up\n",
      "1816  2022-12-28  12698  12867.0  12836.0  12863.0  12857.0  12744.0      Down\n",
      "1817  2022-12-29  12438  12698.0  12867.0  12836.0  12863.0  12857.0      Down\n",
      "1818  2022-12-30  12567  12438.0  12698.0  12867.0  12836.0  12863.0        Up\n",
      "1819  2022-12-31  12503  12567.0  12438.0  12698.0  12867.0  12836.0      Down\n",
      "\n",
      "[61 rows x 8 columns]\n"
     ]
    }
   ],
   "source": [
    "print(df_test)"
   ]
  },
  {
   "cell_type": "markdown",
   "metadata": {},
   "source": [
    "We now ft a logistic regression model using only the subset of the observations that correspond to dates before 2022-11-01. We then obtain predicted\n",
    "probabilities of the stock market going up for each of the days in our test\n",
    "set — that is, for the days before 2022-11-01."
   ]
  },
  {
   "cell_type": "code",
   "execution_count": 40,
   "metadata": {},
   "outputs": [
    {
     "name": "stderr",
     "output_type": "stream",
     "text": [
      "/mnt/c/Users/aras/python_iths/iths_2023_sep_dec/aras_venv/lib/python3.11/site-packages/statsmodels/genmod/families/links.py:198: RuntimeWarning: overflow encountered in exp\n",
      "  t = np.exp(-z)\n"
     ]
    }
   ],
   "source": [
    "X_train, X_test = X.loc[train], X.loc[~train]\n",
    "y_train, y_test = y.loc[train], y.loc[~train]\n",
    "glm_train = sm.GLM(y_train,\n",
    "X_train,\n",
    "family=sm.families.Binomial())\n",
    "results = glm_train.fit()\n",
    "probs = results.predict(exog=X_test)"
   ]
  },
  {
   "cell_type": "markdown",
   "metadata": {},
   "source": [
    "Finally, we compare the predictions for dates after 2022-11-01 to the actual movements of\n",
    "the market over that time period. We will frst store the test and training\n",
    "labels (recall y_test is binary)."
   ]
  },
  {
   "cell_type": "code",
   "execution_count": 41,
   "metadata": {},
   "outputs": [],
   "source": [
    "D = df_with_direction.Direction\n",
    "L_train, L_test = D.loc[train], D.loc[~train]"
   ]
  },
  {
   "cell_type": "code",
   "execution_count": 42,
   "metadata": {},
   "outputs": [
    {
     "name": "stdout",
     "output_type": "stream",
     "text": [
      "0       Down\n",
      "1         Up\n",
      "2         Up\n",
      "3         Up\n",
      "4       Down\n",
      "        ... \n",
      "1815      Up\n",
      "1816    Down\n",
      "1817    Down\n",
      "1818      Up\n",
      "1819    Down\n",
      "Name: Direction, Length: 1820, dtype: object\n"
     ]
    }
   ],
   "source": [
    "print(D)"
   ]
  },
  {
   "cell_type": "code",
   "execution_count": 49,
   "metadata": {},
   "outputs": [
    {
     "data": {
      "text/html": [
       "<div>\n",
       "<style scoped>\n",
       "    .dataframe tbody tr th:only-of-type {\n",
       "        vertical-align: middle;\n",
       "    }\n",
       "\n",
       "    .dataframe tbody tr th {\n",
       "        vertical-align: top;\n",
       "    }\n",
       "\n",
       "    .dataframe thead th {\n",
       "        text-align: right;\n",
       "    }\n",
       "</style>\n",
       "<table border=\"1\" class=\"dataframe\">\n",
       "  <thead>\n",
       "    <tr style=\"text-align: right;\">\n",
       "      <th>Truth</th>\n",
       "      <th>Down</th>\n",
       "      <th>Up</th>\n",
       "    </tr>\n",
       "    <tr>\n",
       "      <th>Predicted</th>\n",
       "      <th></th>\n",
       "      <th></th>\n",
       "    </tr>\n",
       "  </thead>\n",
       "  <tbody>\n",
       "    <tr>\n",
       "      <th>Down</th>\n",
       "      <td>34</td>\n",
       "      <td>0</td>\n",
       "    </tr>\n",
       "    <tr>\n",
       "      <th>Up</th>\n",
       "      <td>0</td>\n",
       "      <td>27</td>\n",
       "    </tr>\n",
       "  </tbody>\n",
       "</table>\n",
       "</div>"
      ],
      "text/plain": [
       "Truth      Down  Up\n",
       "Predicted          \n",
       "Down         34   0\n",
       "Up            0  27"
      ]
     },
     "execution_count": 49,
     "metadata": {},
     "output_type": "execute_result"
    }
   ],
   "source": [
    "labels = np.array(['Down']*61)\n",
    "labels[probs >0.5] = 'Up'\n",
    "confusion_table(labels, L_test)"
   ]
  },
  {
   "cell_type": "code",
   "execution_count": 44,
   "metadata": {},
   "outputs": [
    {
     "data": {
      "text/plain": [
       "(1.0, 0.0)"
      ]
     },
     "execution_count": 44,
     "metadata": {},
     "output_type": "execute_result"
    }
   ],
   "source": [
    "np.mean(labels == L_test), np.mean(labels != L_test)"
   ]
  }
 ],
 "metadata": {
  "kernelspec": {
   "display_name": "aras_venv",
   "language": "python",
   "name": "python3"
  },
  "language_info": {
   "codemirror_mode": {
    "name": "ipython",
    "version": 3
   },
   "file_extension": ".py",
   "mimetype": "text/x-python",
   "name": "python",
   "nbconvert_exporter": "python",
   "pygments_lexer": "ipython3",
   "version": "3.11.3"
  }
 },
 "nbformat": 4,
 "nbformat_minor": 2
}
